{
 "cells": [
  {
   "cell_type": "markdown",
   "metadata": {},
   "source": [
    "This code is from https://github.com/escuccim/DeepQA which was forked from https://github.com/Conchylicultor/DeepQA. This notebook contains the ChatBot class and imports functions from other .py files. The original code has been edited and made to work in a notebook rather than the command line. The code has also been modified to work with the code from the assignment.\n",
    "\n",
    "Many of the parameters have been changed to allow this to be trained on a laptop GPU in a reasonable amount of time. I tried various combinations of parameters and training on different datasets:\n",
    "* Training on opensubs took about 7-8 hours per epoch on my laptop and after 3 days of training the model only replied \"what?\" and \"i'm sorry.\"\n",
    "* Training on the cornell dataset allowed us to use a larger embedding size, a larger vocabulary and a larger input size and took about 1.5 hours per epoch.\n",
    "\n",
    "The model has been trained for about 20 epochs, in batches of 3 epochs at a time. Only the last 3 epochs of training are shown below."
   ]
  },
  {
   "cell_type": "code",
   "execution_count": 1,
   "metadata": {},
   "outputs": [
    {
     "name": "stderr",
     "output_type": "stream",
     "text": [
      "c:\\users\\eric\\anaconda2\\envs\\hse_dl\\lib\\site-packages\\h5py\\__init__.py:34: FutureWarning: Conversion of the second argument of issubdtype from `float` to `np.floating` is deprecated. In future, it will be treated as `np.float64 == np.dtype(float).type`.\n",
      "  from ._conv import register_converters as _register_converters\n"
     ]
    }
   ],
   "source": [
    "import configparser  # Saving the models parameters\n",
    "import datetime  # Chronometer\n",
    "import os  # Files management\n",
    "import tensorflow as tf\n",
    "import numpy as np\n",
    "import math\n",
    "\n",
    "from tqdm import tqdm  # Progress bar\n",
    "from tensorflow.python import debug as tf_debug\n",
    "\n",
    "from chatbot.textdata import TextData\n",
    "from chatbot.model import Model"
   ]
  },
  {
   "cell_type": "code",
   "execution_count": 2,
   "metadata": {},
   "outputs": [],
   "source": [
    "# since we aren't running this on the command line create an args object with default values\n",
    "class Args():\n",
    "    def __init__(self, args=None):\n",
    "        self.test = None\n",
    "        self.createDataset = False\n",
    "        self.playDataset = False\n",
    "        self.reset = False\n",
    "        self.verbose = True\n",
    "        self.debug = False\n",
    "        self.keepAll = False\n",
    "        self.modelTag = None\n",
    "        self.rootDir = None\n",
    "        self.watsonMode = False\n",
    "        self.autoEncode = False\n",
    "        self.device = \"gpu\"\n",
    "        self.seed = 0\n",
    "        \n",
    "        # dataset options\n",
    "        self.corpus = \"cornell\" #\"cornell\"\n",
    "        self.datasetTag = \"\"\n",
    "        self.ratioDataset = 1.0\n",
    "        self.maxLength = 15\n",
    "        self.filterVocab = 15\n",
    "        self.skipLines = False\n",
    "        self.vocabularySize = 50000\n",
    "        \n",
    "        # network options\n",
    "        self.hiddenSize = 512\n",
    "        self.numLayers = 2\n",
    "        self.softmaxSamples = 0\n",
    "        self.initEmbeddings = False\n",
    "        self.embeddingSize = 75\n",
    "        self.embeddingSource = \"GoogleNews-vectors-negative300.bin\"\n",
    "        \n",
    "        # training options\n",
    "        self.numEpochs = 3\n",
    "        self.saveEvery = 1000\n",
    "        self.batchSize = 196\n",
    "        self.learningRate = 0.001\n",
    "        self.dropout = 0.9"
   ]
  },
  {
   "cell_type": "code",
   "execution_count": 3,
   "metadata": {},
   "outputs": [],
   "source": [
    "# Copyright 2015 Conchylicultor. All Rights Reserved.\n",
    "#\n",
    "# Licensed under the Apache License, Version 2.0 (the \"License\");\n",
    "# you may not use this file except in compliance with the License.\n",
    "# You may obtain a copy of the License at\n",
    "#\n",
    "#     http://www.apache.org/licenses/LICENSE-2.0\n",
    "#\n",
    "# Unless required by applicable law or agreed to in writing, software\n",
    "# distributed under the License is distributed on an \"AS IS\" BASIS,\n",
    "# WITHOUT WARRANTIES OR CONDITIONS OF ANY KIND, either express or implied.\n",
    "# See the License for the specific language governing permissions and\n",
    "# limitations under the License.\n",
    "# ==============================================================================\n",
    "\n",
    "\"\"\"\n",
    "Main script. See README.md for more information\n",
    "\n",
    "Use python 3\n",
    "\"\"\"\n",
    "\n",
    "import configparser  # Saving the models parameters\n",
    "import datetime  # Chronometer\n",
    "import os  # Files management\n",
    "import tensorflow as tf\n",
    "import numpy as np\n",
    "import math\n",
    "\n",
    "from tqdm import tqdm  # Progress bar\n",
    "from tensorflow.python import debug as tf_debug\n",
    "\n",
    "from chatbot.textdata import TextData\n",
    "from chatbot.model import Model\n",
    "\n",
    "\n",
    "class Chatbot:\n",
    "    \"\"\"\n",
    "    Main class which launch the training or testing mode\n",
    "    \"\"\"\n",
    "\n",
    "    class TestMode:\n",
    "        \"\"\" Simple structure representing the different testing modes\n",
    "        \"\"\"\n",
    "        ALL = 'all'\n",
    "        INTERACTIVE = 'interactive'  # The user can write his own questions\n",
    "        DAEMON = 'daemon'  # The chatbot runs on background and can regularly be called to predict something\n",
    "\n",
    "    def __init__(self):\n",
    "        \"\"\"\n",
    "        \"\"\"\n",
    "        # Model/dataset parameters\n",
    "        self.args = None\n",
    "\n",
    "        # Task specific object\n",
    "        self.textData = None  # Dataset\n",
    "        self.model = None  # Sequence to sequence model\n",
    "\n",
    "        # Tensorflow utilities for convenience saving/logging\n",
    "        self.writer = None\n",
    "        self.saver = None\n",
    "        self.modelDir = ''  # Where the model is saved\n",
    "        self.globStep = 0  # Represent the number of iteration for the current model\n",
    "\n",
    "        # TensorFlow main session (we keep track for the daemon)\n",
    "        self.sess = None\n",
    "\n",
    "        # Filename and directories constants\n",
    "        self.MODEL_DIR_BASE = 'save4' + os.sep + 'model'\n",
    "        self.MODEL_NAME_BASE = 'model'\n",
    "        self.MODEL_EXT = '.ckpt'\n",
    "        self.CONFIG_FILENAME = 'params.ini'\n",
    "        self.CONFIG_VERSION = '0.5'\n",
    "        self.TEST_IN_NAME = 'data' + os.sep + 'test' + os.sep + 'samples.txt'\n",
    "        self.TEST_OUT_SUFFIX = '_predictions.txt'\n",
    "        self.SENTENCES_PREFIX = ['Q: ', 'A: ']\n",
    "\n",
    "    @staticmethod\n",
    "    def parseArgs(pargs):\n",
    "        args = Args(pargs)\n",
    "            \n",
    "        if pargs is not None and \"test\" in pargs:\n",
    "            args.test = pargs['test']\n",
    "        else:\n",
    "            args.test = None\n",
    "            \n",
    "        return args\n",
    "    \n",
    "    def start_session(self):\n",
    "         # Running session\n",
    "        self.sess = tf.Session(config=tf.ConfigProto(\n",
    "            allow_soft_placement=True,  # Allows backup device for non GPU-available operations (when forcing GPU)\n",
    "            log_device_placement=False)  # Too verbose ?\n",
    "        )  # TODO: Replace all sess by self.sess (not necessary a good idea) ?\n",
    "\n",
    "        if self.args.debug:\n",
    "            self.sess = tf_debug.LocalCLIDebugWrapperSession(self.sess)\n",
    "            self.sess.add_tensor_filter(\"has_inf_or_nan\", tf_debug.has_inf_or_nan)\n",
    "\n",
    "        print('Initialize variables...')\n",
    "        self.sess.run(tf.global_variables_initializer())\n",
    "\n",
    "        # Reload the model eventually (if it exist.), on testing mode, the models are not loaded here (but in predictTestset)\n",
    "        if self.args.test != Chatbot.TestMode.ALL:\n",
    "            self.managePreviousModel(self.sess)\n",
    "\n",
    "        # Initialize embeddings with pre-trained word2vec vectors\n",
    "        if self.args.initEmbeddings:\n",
    "            self.loadEmbedding(self.sess)\n",
    "    \n",
    "    def load_model(self):\n",
    "        self.loadModelParams()  # Update the self.modelDir and self.globStep, for now, not used when loading Model (but need to be called before _getSummaryName)\n",
    "\n",
    "        self.textData = TextData(self.args)\n",
    "        # TODO: Add a mode where we can force the input of the decoder // Try to visualize the predictions for\n",
    "        # each word of the vocabulary / decoder input\n",
    "        # TODO: For now, the model are trained for a specific dataset (because of the maxLength which define the\n",
    "        # vocabulary). Add a compatibility mode which allow to launch a model trained on a different vocabulary (\n",
    "        # remap the word2id/id2word variables).\n",
    "        if self.args.createDataset:\n",
    "            print('Dataset created! Thanks for using this program')\n",
    "            return  # No need to go further\n",
    "        \n",
    "        # only create the model if we need to, to avoid errors\n",
    "        if self.model is None:\n",
    "            # Prepare the model\n",
    "            with tf.device(self.getDevice()):\n",
    "                self.model = Model(self.args, self.textData)\n",
    "\n",
    "    def main(self, pargs=None):\n",
    "        \"\"\"\n",
    "        Launch the training and/or the interactive mode\n",
    "        \"\"\"\n",
    "        print('Welcome to DeepQA v0.1 !')\n",
    "        print()\n",
    "        print('TensorFlow detected: v{}'.format(tf.__version__))\n",
    "\n",
    "        # General initialisation\n",
    "\n",
    "        self.args = self.parseArgs(pargs)\n",
    "\n",
    "        if not self.args.rootDir:\n",
    "            self.args.rootDir = os.getcwd()  # Use the current working directory\n",
    "\n",
    "        #tf.logging.set_verbosity(tf.logging.INFO) # DEBUG, INFO, WARN (default), ERROR, or FATAL\n",
    "\n",
    "        self.load_model()\n",
    "\n",
    "        # Saver/summaries\n",
    "        self.writer = tf.summary.FileWriter(self._getSummaryName())\n",
    "        self.saver = tf.train.Saver(max_to_keep=200)\n",
    "\n",
    "        # TODO: Fixed seed (WARNING: If dataset shuffling, make sure to do that after saving the\n",
    "        # dataset, otherwise, all which cames after the shuffling won't be replicable when\n",
    "        # reloading the dataset). How to restore the seed after loading ??\n",
    "        # Also fix seed for random.shuffle (does it works globally for all files ?)\n",
    "\n",
    "        self.start_session()\n",
    "\n",
    "        if self.args.test:\n",
    "            if self.args.test == Chatbot.TestMode.INTERACTIVE:\n",
    "                self.mainTestInteractive(self.sess)\n",
    "            elif self.args.test == Chatbot.TestMode.ALL:\n",
    "                print('Start predicting...')\n",
    "                self.predictTestset(self.sess)\n",
    "                print('All predictions done')\n",
    "            elif self.args.test == Chatbot.TestMode.DAEMON:\n",
    "                print('Daemon mode, running in background...')\n",
    "            else:\n",
    "                raise RuntimeError('Unknown test mode: {}'.format(self.args.test))  # Should never happen\n",
    "        else:\n",
    "            self.mainTrain(self.sess)\n",
    "\n",
    "        if self.args.test != Chatbot.TestMode.DAEMON:\n",
    "#             self.sess.close()\n",
    "            print(\"The End! Thanks for using this program\")\n",
    "\n",
    "    def mainTrain(self, sess):\n",
    "        \"\"\" Training loop\n",
    "        Args:\n",
    "            sess: The current running session\n",
    "        \"\"\"\n",
    "\n",
    "        # Specific training dependent loading\n",
    "        self.textData.makeLighter(self.args.ratioDataset)  # Limit the number of training samples\n",
    "\n",
    "        mergedSummaries = tf.summary.merge_all()  # Define the summary operator (Warning: Won't appear on the tensorboard graph)\n",
    "        if self.globStep == 0:  # Not restoring from previous run\n",
    "            self.writer.add_graph(sess.graph)  # First time only\n",
    "\n",
    "        # If restoring a model, restore the progression bar ? and current batch ?\n",
    "        print('Start training (press Ctrl+C to save and exit)...')\n",
    "\n",
    "        try:  # If the user exit while training, we still try to save the model\n",
    "            for e in range(self.args.numEpochs):\n",
    "\n",
    "                print()\n",
    "                print(\"----- Epoch {}/{} ; (lr={}) -----\".format(e+1, self.args.numEpochs, self.args.learningRate))\n",
    "\n",
    "                batches = self.textData.getBatches()\n",
    "\n",
    "                # TODO: Also update learning parameters eventually\n",
    "\n",
    "                tic = datetime.datetime.now()\n",
    "                for nextBatch in tqdm(batches, desc=\"Training\"):\n",
    "                    # Training pass\n",
    "                    ops, feedDict = self.model.step(nextBatch)\n",
    "                    assert len(ops) == 2  # training, loss\n",
    "                    _, loss, summary = sess.run(ops + (mergedSummaries,), feedDict)\n",
    "                    self.writer.add_summary(summary, self.globStep)\n",
    "                    self.globStep += 1\n",
    "\n",
    "                    # Output training status\n",
    "                    if self.globStep % 100 == 0:\n",
    "                        perplexity = math.exp(float(loss)) if loss < 300 else float(\"inf\")\n",
    "                        tqdm.write(\"----- Step %d -- Loss %.4f -- Perplexity %.4f\" % (self.globStep, loss, perplexity))\n",
    "\n",
    "                    # Checkpoint\n",
    "                    if self.globStep % self.args.saveEvery == 0:\n",
    "                        self._saveSession(sess)\n",
    "\n",
    "                toc = datetime.datetime.now()\n",
    "\n",
    "                print(\"Epoch finished in {}\".format(toc-tic))  # Warning: Will overflow if an epoch takes more than 24 hours, and the output isn't really nicer\n",
    "        except (KeyboardInterrupt, SystemExit):  # If the user press Ctrl+C while testing progress\n",
    "            print('Interruption detected, exiting the program...')\n",
    "\n",
    "        self._saveSession(sess)  # Ultimate saving before complete exit\n",
    "\n",
    "    def predictTestset(self, sess):\n",
    "        \"\"\" Try predicting the sentences from the samples.txt file.\n",
    "        The sentences are saved on the modelDir under the same name\n",
    "        Args:\n",
    "            sess: The current running session\n",
    "        \"\"\"\n",
    "\n",
    "        # Loading the file to predict\n",
    "        with open(os.path.join(self.args.rootDir, self.TEST_IN_NAME), 'r') as f:\n",
    "            lines = f.readlines()\n",
    "\n",
    "        modelList = self._getModelList()\n",
    "        if not modelList:\n",
    "            print('Warning: No model found in \\'{}\\'. Please train a model before trying to predict'.format(self.modelDir))\n",
    "            return\n",
    "\n",
    "        # Predicting for each model present in modelDir\n",
    "        for modelName in sorted(modelList):  # TODO: Natural sorting\n",
    "            print('Restoring previous model from {}'.format(modelName))\n",
    "            self.saver.restore(sess, modelName)\n",
    "            print('Testing...')\n",
    "\n",
    "            saveName = modelName[:-len(self.MODEL_EXT)] + self.TEST_OUT_SUFFIX  # We remove the model extension and add the prediction suffix\n",
    "            with open(saveName, 'w') as f:\n",
    "                nbIgnored = 0\n",
    "                for line in tqdm(lines, desc='Sentences'):\n",
    "                    question = line[:-1]  # Remove the endl character\n",
    "\n",
    "                    answer = self.singlePredict(question)\n",
    "                    if not answer:\n",
    "                        nbIgnored += 1\n",
    "                        continue  # Back to the beginning, try again\n",
    "\n",
    "                    predString = '{x[0]}{0}\\n{x[1]}{1}\\n\\n'.format(question, self.textData.sequence2str(answer, clean=True), x=self.SENTENCES_PREFIX)\n",
    "                    if self.args.verbose:\n",
    "                        tqdm.write(predString)\n",
    "                    f.write(predString)\n",
    "                print('Prediction finished, {}/{} sentences ignored (too long)'.format(nbIgnored, len(lines)))\n",
    "\n",
    "    def mainTestInteractive(self, sess):\n",
    "        \"\"\" Try predicting the sentences that the user will enter in the console\n",
    "        Args:\n",
    "            sess: The current running session\n",
    "        \"\"\"\n",
    "        # TODO: If verbose mode, also show similar sentences from the training set with the same words (include in mainTest also)\n",
    "        # TODO: Also show the top 10 most likely predictions for each predicted output (when verbose mode)\n",
    "        # TODO: Log the questions asked for latter re-use (merge with test/samples.txt)\n",
    "\n",
    "        print('Testing: Launch interactive mode:')\n",
    "        print('')\n",
    "        print('Welcome to the interactive mode, here you can ask to Deep Q&A the sentence you want. Don\\'t have high '\n",
    "              'expectation. Type \\'exit\\' or just press ENTER to quit the program. Have fun.')\n",
    "\n",
    "        while True:\n",
    "            question = input(self.SENTENCES_PREFIX[0])\n",
    "            if question == '' or question == 'exit':\n",
    "                break\n",
    "\n",
    "            questionSeq = []  # Will be contain the question as seen by the encoder\n",
    "            answer = self.singlePredict(question, questionSeq)\n",
    "            if not answer:\n",
    "                print('Warning: sentence too long, sorry. Maybe try a simpler sentence.')\n",
    "                continue  # Back to the beginning, try again\n",
    "\n",
    "            print('{}{}'.format(self.SENTENCES_PREFIX[1], self.textData.sequence2str(answer, clean=True)))\n",
    "\n",
    "            if self.args.verbose:\n",
    "                print(self.textData.batchSeq2str(questionSeq, clean=True, reverse=True))\n",
    "                print(self.textData.sequence2str(answer))\n",
    "\n",
    "            print()\n",
    "    \n",
    "    def get_response(self, question):\n",
    "        return self.daemonPredict(question)\n",
    "    \n",
    "    def singlePredict(self, question, questionSeq=None):\n",
    "        \"\"\" Predict the sentence\n",
    "        Args:\n",
    "            question (str): the raw input sentence\n",
    "            questionSeq (List<int>): output argument. If given will contain the input batch sequence\n",
    "        Return:\n",
    "            list <int>: the word ids corresponding to the answer\n",
    "        \"\"\"\n",
    "        # Create the input batch\n",
    "        batch = self.textData.sentence2enco(question)\n",
    "        if not batch:\n",
    "            return None\n",
    "        if questionSeq is not None:  # If the caller want to have the real input\n",
    "            questionSeq.extend(batch.encoderSeqs)\n",
    "\n",
    "        # Run the model\n",
    "        ops, feedDict = self.model.step(batch)\n",
    "        output = self.sess.run(ops[0], feedDict)  # TODO: Summarize the output too (histogram, ...)\n",
    "        answer = self.textData.deco2sentence(output)\n",
    "\n",
    "        return answer\n",
    "\n",
    "    def daemonPredict(self, sentence):\n",
    "        \"\"\" Return the answer to a given sentence (same as singlePredict() but with additional cleaning)\n",
    "        Args:\n",
    "            sentence (str): the raw input sentence\n",
    "        Return:\n",
    "            str: the human readable sentence\n",
    "        \"\"\"\n",
    "        return self.textData.sequence2str(\n",
    "            self.singlePredict(sentence),\n",
    "            clean=True\n",
    "        )\n",
    "\n",
    "    def daemonClose(self):\n",
    "        \"\"\" A utility function to close the daemon when finish\n",
    "        \"\"\"\n",
    "        print('Exiting the daemon mode...')\n",
    "        self.sess.close()\n",
    "        print('Daemon closed.')\n",
    "\n",
    "    def loadEmbedding(self, sess):\n",
    "        \"\"\" Initialize embeddings with pre-trained word2vec vectors\n",
    "        Will modify the embedding weights of the current loaded model\n",
    "        Uses the GoogleNews pre-trained values (path hardcoded)\n",
    "        \"\"\"\n",
    "\n",
    "        # Fetch embedding variables from model\n",
    "        with tf.variable_scope(\"embedding_rnn_seq2seq/rnn/embedding_wrapper\", reuse=True):\n",
    "            em_in = tf.get_variable(\"embedding\")\n",
    "        with tf.variable_scope(\"embedding_rnn_seq2seq/embedding_rnn_decoder\", reuse=True):\n",
    "            em_out = tf.get_variable(\"embedding\")\n",
    "\n",
    "        # Disable training for embeddings\n",
    "        variables = tf.get_collection_ref(tf.GraphKeys.TRAINABLE_VARIABLES)\n",
    "        variables.remove(em_in)\n",
    "        variables.remove(em_out)\n",
    "\n",
    "        # If restoring a model, we can leave here\n",
    "        if self.globStep != 0:\n",
    "            return\n",
    "\n",
    "        # New model, we load the pre-trained word2vec data and initialize embeddings\n",
    "        embeddings_path = os.path.join(self.args.rootDir, 'data', 'embeddings', self.args.embeddingSource)\n",
    "        embeddings_format = os.path.splitext(embeddings_path)[1][1:]\n",
    "        print(\"Loading pre-trained word embeddings from %s \" % embeddings_path)\n",
    "        with open(embeddings_path, \"rb\") as f:\n",
    "            header = f.readline()\n",
    "            vocab_size, vector_size = map(int, header.split())\n",
    "            binary_len = np.dtype('float32').itemsize * vector_size\n",
    "            initW = np.random.uniform(-0.25,0.25,(len(self.textData.word2id), vector_size))\n",
    "            for line in tqdm(range(vocab_size)):\n",
    "                word = []\n",
    "                while True:\n",
    "                    ch = f.read(1)\n",
    "                    if ch == b' ':\n",
    "                        word = b''.join(word).decode('utf-8')\n",
    "                        break\n",
    "                    if ch != b'\\n':\n",
    "                        word.append(ch)\n",
    "                if word in self.textData.word2id:\n",
    "                    if embeddings_format == 'bin':\n",
    "                        vector = np.fromstring(f.read(binary_len), dtype='float32')\n",
    "                    elif embeddings_format == 'vec':\n",
    "                        vector = np.fromstring(f.readline(), sep=' ', dtype='float32')\n",
    "                    else:\n",
    "                        raise Exception(\"Unkown format for embeddings: %s \" % embeddings_format)\n",
    "                    initW[self.textData.word2id[word]] = vector\n",
    "                else:\n",
    "                    if embeddings_format == 'bin':\n",
    "                        f.read(binary_len)\n",
    "                    elif embeddings_format == 'vec':\n",
    "                        f.readline()\n",
    "                    else:\n",
    "                        raise Exception(\"Unkown format for embeddings: %s \" % embeddings_format)\n",
    "\n",
    "        # PCA Decomposition to reduce word2vec dimensionality\n",
    "        if self.args.embeddingSize < vector_size:\n",
    "            U, s, Vt = np.linalg.svd(initW, full_matrices=False)\n",
    "            S = np.zeros((vector_size, vector_size), dtype=complex)\n",
    "            S[:vector_size, :vector_size] = np.diag(s)\n",
    "            initW = np.dot(U[:, :self.args.embeddingSize], S[:self.args.embeddingSize, :self.args.embeddingSize])\n",
    "\n",
    "        # Initialize input and output embeddings\n",
    "        sess.run(em_in.assign(initW))\n",
    "        sess.run(em_out.assign(initW))\n",
    "\n",
    "\n",
    "    def managePreviousModel(self, sess):\n",
    "        \"\"\" Restore or reset the model, depending of the parameters\n",
    "        If the destination directory already contains some file, it will handle the conflict as following:\n",
    "         * If --reset is set, all present files will be removed (warning: no confirmation is asked) and the training\n",
    "         restart from scratch (globStep & cie reinitialized)\n",
    "         * Otherwise, it will depend of the directory content. If the directory contains:\n",
    "           * No model files (only summary logs): works as a reset (restart from scratch)\n",
    "           * Other model files, but modelName not found (surely keepAll option changed): raise error, the user should\n",
    "           decide by himself what to do\n",
    "           * The right model file (eventually some other): no problem, simply resume the training\n",
    "        In any case, the directory will exist as it has been created by the summary writer\n",
    "        Args:\n",
    "            sess: The current running session\n",
    "        \"\"\"\n",
    "\n",
    "        print('WARNING: ', end='')\n",
    "\n",
    "        modelName = self._getModelName()\n",
    "\n",
    "        if os.listdir(self.modelDir):\n",
    "            if self.args.reset:\n",
    "                print('Reset: Destroying previous model at {}'.format(self.modelDir))\n",
    "            # Analysing directory content\n",
    "            elif os.path.exists(modelName):  # Restore the model\n",
    "                print('Restoring previous model from {}'.format(modelName))\n",
    "                self.saver.restore(sess, modelName)  # Will crash when --reset is not activated and the model has not been saved yet\n",
    "            elif self._getModelList():\n",
    "                print('Conflict with previous models.')\n",
    "                raise RuntimeError('Some models are already present in \\'{}\\'. You should check them first (or re-try with the keepAll flag)'.format(self.modelDir))\n",
    "            else:  # No other model to conflict with (probably summary files)\n",
    "                print('No previous model found, but some files found at {}. Cleaning...'.format(self.modelDir))  # Warning: No confirmation asked\n",
    "                self.args.reset = True\n",
    "\n",
    "            if self.args.reset:\n",
    "                fileList = [os.path.join(self.modelDir, f) for f in os.listdir(self.modelDir)]\n",
    "                for f in fileList:\n",
    "                    print('Removing {}'.format(f))\n",
    "                    os.remove(f)\n",
    "\n",
    "        else:\n",
    "            print('No previous model found, starting from clean directory: {}'.format(self.modelDir))\n",
    "\n",
    "    def _saveSession(self, sess):\n",
    "        \"\"\" Save the model parameters and the variables\n",
    "        Args:\n",
    "            sess: the current session\n",
    "        \"\"\"\n",
    "        tqdm.write('Checkpoint reached: saving model (don\\'t stop the run)...')\n",
    "        self.saveModelParams()\n",
    "        model_name = self._getModelName()\n",
    "        with open(model_name, 'w') as f:  # HACK: Simulate the old model existance to avoid rewriting the file parser\n",
    "            f.write('This file is used internally by DeepQA to check the model existance. Please do not remove.\\n')\n",
    "        self.saver.save(sess, model_name)  # TODO: Put a limit size (ex: 3GB for the modelDir)\n",
    "        tqdm.write('Model saved.')\n",
    "\n",
    "    def _getModelList(self):\n",
    "        \"\"\" Return the list of the model files inside the model directory\n",
    "        \"\"\"\n",
    "        return [os.path.join(self.modelDir, f) for f in os.listdir(self.modelDir) if f.endswith(self.MODEL_EXT)]\n",
    "\n",
    "    def loadModelParams(self):\n",
    "        \"\"\" Load the some values associated with the current model, like the current globStep value\n",
    "        For now, this function does not need to be called before loading the model (no parameters restored). However,\n",
    "        the modelDir name will be initialized here so it is required to call this function before managePreviousModel(),\n",
    "        _getModelName() or _getSummaryName()\n",
    "        Warning: if you modify this function, make sure the changes mirror saveModelParams, also check if the parameters\n",
    "        should be reset in managePreviousModel\n",
    "        \"\"\"\n",
    "        # Compute the current model path\n",
    "        self.modelDir = os.path.join(self.args.rootDir, self.MODEL_DIR_BASE)\n",
    "        if self.args.modelTag:\n",
    "            self.modelDir += '-' + self.args.modelTag\n",
    "\n",
    "        # If there is a previous model, restore some parameters\n",
    "        configName = os.path.join(self.modelDir, self.CONFIG_FILENAME)\n",
    "        if not self.args.reset and not self.args.createDataset and os.path.exists(configName):\n",
    "            # Loading\n",
    "            config = configparser.ConfigParser()\n",
    "            config.read(configName)\n",
    "\n",
    "            # Check the version\n",
    "            currentVersion = config['General'].get('version')\n",
    "            if currentVersion != self.CONFIG_VERSION:\n",
    "                raise UserWarning('Present configuration version {0} does not match {1}. You can try manual changes on \\'{2}\\''.format(currentVersion, self.CONFIG_VERSION, configName))\n",
    "\n",
    "            # Restoring the the parameters\n",
    "            self.globStep = config['General'].getint('globStep')\n",
    "            self.args.watsonMode = config['General'].getboolean('watsonMode')\n",
    "            self.args.autoEncode = config['General'].getboolean('autoEncode')\n",
    "            self.args.corpus = config['General'].get('corpus')\n",
    "\n",
    "            self.args.datasetTag = config['Dataset'].get('datasetTag')\n",
    "            self.args.maxLength = config['Dataset'].getint('maxLength')  # We need to restore the model length because of the textData associated and the vocabulary size (TODO: Compatibility mode between different maxLength)\n",
    "            self.args.filterVocab = config['Dataset'].getint('filterVocab')\n",
    "            self.args.skipLines = config['Dataset'].getboolean('skipLines')\n",
    "            self.args.vocabularySize = config['Dataset'].getint('vocabularySize')\n",
    "\n",
    "            self.args.hiddenSize = config['Network'].getint('hiddenSize')\n",
    "            self.args.numLayers = config['Network'].getint('numLayers')\n",
    "            self.args.softmaxSamples = config['Network'].getint('softmaxSamples')\n",
    "            self.args.initEmbeddings = config['Network'].getboolean('initEmbeddings')\n",
    "            self.args.embeddingSize = config['Network'].getint('embeddingSize')\n",
    "            self.args.embeddingSource = config['Network'].get('embeddingSource')\n",
    "\n",
    "            # No restoring for training params, batch size or other non model dependent parameters\n",
    "\n",
    "            # Show the restored params\n",
    "            print()\n",
    "            print('Warning: Restoring parameters:')\n",
    "            print('globStep: {}'.format(self.globStep))\n",
    "            print('watsonMode: {}'.format(self.args.watsonMode))\n",
    "            print('autoEncode: {}'.format(self.args.autoEncode))\n",
    "            print('corpus: {}'.format(self.args.corpus))\n",
    "            print('datasetTag: {}'.format(self.args.datasetTag))\n",
    "            print('maxLength: {}'.format(self.args.maxLength))\n",
    "            print('filterVocab: {}'.format(self.args.filterVocab))\n",
    "            print('skipLines: {}'.format(self.args.skipLines))\n",
    "            print('vocabularySize: {}'.format(self.args.vocabularySize))\n",
    "            print('hiddenSize: {}'.format(self.args.hiddenSize))\n",
    "            print('numLayers: {}'.format(self.args.numLayers))\n",
    "            print('softmaxSamples: {}'.format(self.args.softmaxSamples))\n",
    "            print('initEmbeddings: {}'.format(self.args.initEmbeddings))\n",
    "            print('embeddingSize: {}'.format(self.args.embeddingSize))\n",
    "            print('embeddingSource: {}'.format(self.args.embeddingSource))\n",
    "            print()\n",
    "\n",
    "        # For now, not arbitrary  independent maxLength between encoder and decoder\n",
    "        self.args.maxLengthEnco = self.args.maxLength\n",
    "#         self.args.maxLengthDeco = self.args.maxLength + 2\n",
    "        self.args.maxLengthDeco = self.args.maxLength + 5\n",
    "\n",
    "        if self.args.watsonMode:\n",
    "            self.SENTENCES_PREFIX.reverse()\n",
    "\n",
    "\n",
    "    def saveModelParams(self):\n",
    "        \"\"\" Save the params of the model, like the current globStep value\n",
    "        Warning: if you modify this function, make sure the changes mirror loadModelParams\n",
    "        \"\"\"\n",
    "        config = configparser.ConfigParser()\n",
    "        config['General'] = {}\n",
    "        config['General']['version']  = self.CONFIG_VERSION\n",
    "        config['General']['globStep']  = str(self.globStep)\n",
    "        config['General']['watsonMode'] = str(self.args.watsonMode)\n",
    "        config['General']['autoEncode'] = str(self.args.autoEncode)\n",
    "        config['General']['corpus'] = str(self.args.corpus)\n",
    "\n",
    "        config['Dataset'] = {}\n",
    "        config['Dataset']['datasetTag'] = str(self.args.datasetTag)\n",
    "        config['Dataset']['maxLength'] = str(self.args.maxLength)\n",
    "        config['Dataset']['filterVocab'] = str(self.args.filterVocab)\n",
    "        config['Dataset']['skipLines'] = str(self.args.skipLines)\n",
    "        config['Dataset']['vocabularySize'] = str(self.args.vocabularySize)\n",
    "\n",
    "        config['Network'] = {}\n",
    "        config['Network']['hiddenSize'] = str(self.args.hiddenSize)\n",
    "        config['Network']['numLayers'] = str(self.args.numLayers)\n",
    "        config['Network']['softmaxSamples'] = str(self.args.softmaxSamples)\n",
    "        config['Network']['initEmbeddings'] = str(self.args.initEmbeddings)\n",
    "        config['Network']['embeddingSize'] = str(self.args.embeddingSize)\n",
    "        config['Network']['embeddingSource'] = str(self.args.embeddingSource)\n",
    "\n",
    "        # Keep track of the learning params (but without restoring them)\n",
    "        config['Training (won\\'t be restored)'] = {}\n",
    "        config['Training (won\\'t be restored)']['learningRate'] = str(self.args.learningRate)\n",
    "        config['Training (won\\'t be restored)']['batchSize'] = str(self.args.batchSize)\n",
    "        config['Training (won\\'t be restored)']['dropout'] = str(self.args.dropout)\n",
    "\n",
    "        with open(os.path.join(self.modelDir, self.CONFIG_FILENAME), 'w') as configFile:\n",
    "            config.write(configFile)\n",
    "\n",
    "    def _getSummaryName(self):\n",
    "        \"\"\" Parse the argument to decide were to save the summary, at the same place that the model\n",
    "        The folder could already contain logs if we restore the training, those will be merged\n",
    "        Return:\n",
    "            str: The path and name of the summary\n",
    "        \"\"\"\n",
    "        return self.modelDir\n",
    "\n",
    "    def _getModelName(self):\n",
    "        \"\"\" Parse the argument to decide were to save/load the model\n",
    "        This function is called at each checkpoint and the first time the model is load. If keepAll option is set, the\n",
    "        globStep value will be included in the name.\n",
    "        Return:\n",
    "            str: The path and name were the model need to be saved\n",
    "        \"\"\"\n",
    "        modelName = os.path.join(self.modelDir, self.MODEL_NAME_BASE)\n",
    "        if self.args.keepAll:  # We do not erase the previously saved model by including the current step on the name\n",
    "            modelName += '-' + str(self.globStep)\n",
    "        return modelName + self.MODEL_EXT\n",
    "\n",
    "    def getDevice(self):\n",
    "        \"\"\" Parse the argument to decide on which device run the modelses\n",
    "        Return:\n",
    "            str: The name of the device on which run the program\n",
    "        \"\"\"\n",
    "        if self.args.device == 'cpu':\n",
    "            return '/cpu:0'\n",
    "        elif self.args.device == 'gpu':\n",
    "            return '/gpu:0'\n",
    "        elif self.args.device is None:  # No specified device (default)\n",
    "            return None\n",
    "        else:\n",
    "            print('Warning: Error in the device name: {}, use the default device'.format(self.args.device))\n",
    "            return None"
   ]
  },
  {
   "cell_type": "code",
   "execution_count": 4,
   "metadata": {},
   "outputs": [],
   "source": [
    "chatbot = Chatbot()"
   ]
  },
  {
   "cell_type": "code",
   "execution_count": null,
   "metadata": {},
   "outputs": [
    {
     "name": "stdout",
     "output_type": "stream",
     "text": [
      "Welcome to DeepQA v0.1 !\n",
      "\n",
      "TensorFlow detected: v1.8.0\n",
      "\n",
      "Warning: Restoring parameters:\n",
      "globStep: 11437\n",
      "watsonMode: False\n",
      "autoEncode: False\n",
      "corpus: cornell\n",
      "datasetTag: \n",
      "maxLength: 15\n",
      "filterVocab: 15\n",
      "skipLines: False\n",
      "vocabularySize: 50000\n",
      "hiddenSize: 512\n",
      "numLayers: 2\n",
      "softmaxSamples: 0\n",
      "initEmbeddings: False\n",
      "embeddingSize: 75\n",
      "embeddingSource: GoogleNews-vectors-negative300.bin\n",
      "\n",
      "Loading dataset from C:\\Users\\eric\\Documents\\Courses\\Advanced Deep Learning\\NLP\\natural-language-processing\\honor\\DeepQA\\data\\samples\\dataset-cornell-length15-filter15-vocabSize50000.pkl\n",
      "Loaded cornell: 6536 words, 155289 QA\n",
      "Model creation...\n",
      "Initialize variables...\n",
      "WARNING: Restoring previous model from C:\\Users\\eric\\Documents\\Courses\\Advanced Deep Learning\\NLP\\natural-language-processing\\honor\\DeepQA\\save4\\model\\model.ckpt\n",
      "INFO:tensorflow:Restoring parameters from C:\\Users\\eric\\Documents\\Courses\\Advanced Deep Learning\\NLP\\natural-language-processing\\honor\\DeepQA\\save4\\model\\model.ckpt\n",
      "Start training (press Ctrl+C to save and exit)...\n",
      "\n",
      "----- Epoch 1/3 ; (lr=0.001) -----\n",
      "Shuffling the dataset...\n"
     ]
    },
    {
     "name": "stderr",
     "output_type": "stream",
     "text": [
      "                                                                                                                                                                                                                         \r"
     ]
    },
    {
     "name": "stdout",
     "output_type": "stream",
     "text": [
      "----- Step 11500 -- Loss 2.8342 -- Perplexity 17.0174\n"
     ]
    },
    {
     "name": "stderr",
     "output_type": "stream",
     "text": [
      "                                                                                                                                                                                                                         \r"
     ]
    },
    {
     "name": "stdout",
     "output_type": "stream",
     "text": [
      "----- Step 11600 -- Loss 2.6886 -- Perplexity 14.7106\n"
     ]
    },
    {
     "name": "stderr",
     "output_type": "stream",
     "text": [
      "                                                                                                                                                                                                                         \r"
     ]
    },
    {
     "name": "stdout",
     "output_type": "stream",
     "text": [
      "----- Step 11700 -- Loss 2.7636 -- Perplexity 15.8569\n"
     ]
    },
    {
     "name": "stderr",
     "output_type": "stream",
     "text": [
      "                                                                                                                                                                                                                         \r"
     ]
    },
    {
     "name": "stdout",
     "output_type": "stream",
     "text": [
      "----- Step 11800 -- Loss 2.8224 -- Perplexity 16.8169\n"
     ]
    },
    {
     "name": "stderr",
     "output_type": "stream",
     "text": [
      "                                                                                                                                                                                                                         \r"
     ]
    },
    {
     "name": "stdout",
     "output_type": "stream",
     "text": [
      "----- Step 11900 -- Loss 2.8147 -- Perplexity 16.6877\n"
     ]
    },
    {
     "name": "stderr",
     "output_type": "stream",
     "text": [
      "                                                                                                                                                                                                                         \r"
     ]
    },
    {
     "name": "stdout",
     "output_type": "stream",
     "text": [
      "----- Step 12000 -- Loss 2.8433 -- Perplexity 17.1722\n"
     ]
    },
    {
     "name": "stderr",
     "output_type": "stream",
     "text": [
      "                                                                                                                                                                                                                         \r"
     ]
    },
    {
     "name": "stdout",
     "output_type": "stream",
     "text": [
      "Checkpoint reached: saving model (don't stop the run)...\n"
     ]
    },
    {
     "name": "stderr",
     "output_type": "stream",
     "text": [
      "                                                                                                                                                                                                                         \r"
     ]
    },
    {
     "name": "stdout",
     "output_type": "stream",
     "text": [
      "Model saved.\n"
     ]
    },
    {
     "name": "stderr",
     "output_type": "stream",
     "text": [
      "                                                                                                                                                                                                                         \r"
     ]
    },
    {
     "name": "stdout",
     "output_type": "stream",
     "text": [
      "----- Step 12100 -- Loss 2.7823 -- Perplexity 16.1559\n"
     ]
    },
    {
     "name": "stderr",
     "output_type": "stream",
     "text": [
      "                                                                                                                                                                                                                         \r"
     ]
    },
    {
     "name": "stdout",
     "output_type": "stream",
     "text": [
      "----- Step 12200 -- Loss 2.8091 -- Perplexity 16.5953\n"
     ]
    },
    {
     "name": "stderr",
     "output_type": "stream",
     "text": [
      "Training: 100%|████████████████████████████████████████████████████████████████████████████████████████████████████████████████████████████████████████████████████████████████████████| 793/793 [56:48<00:00,  1.66s/it]\n"
     ]
    },
    {
     "name": "stdout",
     "output_type": "stream",
     "text": [
      "Epoch finished in 0:56:48.049380\n",
      "\n",
      "----- Epoch 2/3 ; (lr=0.001) -----\n",
      "Shuffling the dataset...\n"
     ]
    },
    {
     "name": "stderr",
     "output_type": "stream",
     "text": [
      "                                                                                                                                                                                                                         \r"
     ]
    },
    {
     "name": "stdout",
     "output_type": "stream",
     "text": [
      "----- Step 12300 -- Loss 2.7628 -- Perplexity 15.8437\n"
     ]
    },
    {
     "name": "stderr",
     "output_type": "stream",
     "text": [
      "                                                                                                                                                                                                                         \r"
     ]
    },
    {
     "name": "stdout",
     "output_type": "stream",
     "text": [
      "----- Step 12400 -- Loss 2.7301 -- Perplexity 15.3340\n"
     ]
    },
    {
     "name": "stderr",
     "output_type": "stream",
     "text": [
      "                                                                                                                                                                                                                         \r"
     ]
    },
    {
     "name": "stdout",
     "output_type": "stream",
     "text": [
      "----- Step 12500 -- Loss 2.6686 -- Perplexity 14.4197\n"
     ]
    },
    {
     "name": "stderr",
     "output_type": "stream",
     "text": [
      "                                                                                                                                                                                                                         \r"
     ]
    },
    {
     "name": "stdout",
     "output_type": "stream",
     "text": [
      "----- Step 12600 -- Loss 2.8515 -- Perplexity 17.3145\n"
     ]
    },
    {
     "name": "stderr",
     "output_type": "stream",
     "text": [
      "                                                                                                                                                                                                                         \r"
     ]
    },
    {
     "name": "stdout",
     "output_type": "stream",
     "text": [
      "----- Step 12700 -- Loss 2.8251 -- Perplexity 16.8624\n"
     ]
    },
    {
     "name": "stderr",
     "output_type": "stream",
     "text": [
      "                                                                                                                                                                                                                         \r"
     ]
    },
    {
     "name": "stdout",
     "output_type": "stream",
     "text": [
      "----- Step 12800 -- Loss 2.7143 -- Perplexity 15.0946\n"
     ]
    },
    {
     "name": "stderr",
     "output_type": "stream",
     "text": [
      "                                                                                                                                                                                                                         \r"
     ]
    },
    {
     "name": "stdout",
     "output_type": "stream",
     "text": [
      "----- Step 12900 -- Loss 2.7455 -- Perplexity 15.5727\n"
     ]
    },
    {
     "name": "stderr",
     "output_type": "stream",
     "text": [
      "                                                                                                                                                                                                                         \r"
     ]
    },
    {
     "name": "stdout",
     "output_type": "stream",
     "text": [
      "----- Step 13000 -- Loss 2.7259 -- Perplexity 15.2705\n"
     ]
    },
    {
     "name": "stderr",
     "output_type": "stream",
     "text": [
      "                                                                                                                                                                                                                         \r"
     ]
    },
    {
     "name": "stdout",
     "output_type": "stream",
     "text": [
      "Checkpoint reached: saving model (don't stop the run)...\n"
     ]
    },
    {
     "name": "stderr",
     "output_type": "stream",
     "text": [
      "                                                                                                                                                                                                                         \r"
     ]
    },
    {
     "name": "stdout",
     "output_type": "stream",
     "text": [
      "Model saved.\n"
     ]
    },
    {
     "name": "stderr",
     "output_type": "stream",
     "text": [
      "Training: 100%|██████████████████████████████████████████████████████████████████████████████████████████████████████████████████████████████████████████████████████████████████████| 793/793 [1:15:41<00:00,  7.12s/it]\n"
     ]
    },
    {
     "name": "stdout",
     "output_type": "stream",
     "text": [
      "Epoch finished in 1:15:41.251823\n",
      "\n",
      "----- Epoch 3/3 ; (lr=0.001) -----\n",
      "Shuffling the dataset...\n"
     ]
    },
    {
     "name": "stderr",
     "output_type": "stream",
     "text": [
      "                                                                                                                                                                                                                         \r"
     ]
    },
    {
     "name": "stdout",
     "output_type": "stream",
     "text": [
      "----- Step 13100 -- Loss 2.6441 -- Perplexity 14.0707\n"
     ]
    },
    {
     "name": "stderr",
     "output_type": "stream",
     "text": [
      "                                                                                                                                                                                                                         \r"
     ]
    },
    {
     "name": "stdout",
     "output_type": "stream",
     "text": [
      "----- Step 13200 -- Loss 2.6906 -- Perplexity 14.7402\n"
     ]
    },
    {
     "name": "stderr",
     "output_type": "stream",
     "text": [
      "Training:  29%|████████████████████████████████████████████████▎                                                                                                                     | 231/793 [21:59<1:11:27,  7.63s/it]"
     ]
    }
   ],
   "source": [
    "chatbot.main()"
   ]
  },
  {
   "cell_type": "code",
   "execution_count": 5,
   "metadata": {},
   "outputs": [
    {
     "name": "stdout",
     "output_type": "stream",
     "text": [
      "Welcome to DeepQA v0.1 !\n",
      "\n",
      "TensorFlow detected: v1.8.0\n",
      "\n",
      "Warning: Restoring parameters:\n",
      "globStep: 11437\n",
      "watsonMode: False\n",
      "autoEncode: False\n",
      "corpus: cornell\n",
      "datasetTag: \n",
      "maxLength: 15\n",
      "filterVocab: 15\n",
      "skipLines: False\n",
      "vocabularySize: 50000\n",
      "hiddenSize: 512\n",
      "numLayers: 2\n",
      "softmaxSamples: 0\n",
      "initEmbeddings: False\n",
      "embeddingSize: 75\n",
      "embeddingSource: GoogleNews-vectors-negative300.bin\n",
      "\n",
      "Loading dataset from C:\\Users\\eric\\Documents\\Courses\\Advanced Deep Learning\\NLP\\natural-language-processing\\honor\\DeepQA\\data\\samples\\dataset-cornell-length15-filter15-vocabSize50000.pkl\n",
      "Loaded cornell: 6536 words, 155289 QA\n",
      "Model creation...\n",
      "Initialize variables...\n",
      "Start predicting...\n",
      "Restoring previous model from C:\\Users\\eric\\Documents\\Courses\\Advanced Deep Learning\\NLP\\natural-language-processing\\honor\\DeepQA\\save4\\model\\model.ckpt\n",
      "INFO:tensorflow:Restoring parameters from C:\\Users\\eric\\Documents\\Courses\\Advanced Deep Learning\\NLP\\natural-language-processing\\honor\\DeepQA\\save4\\model\\model.ckpt\n",
      "Testing...\n"
     ]
    },
    {
     "name": "stderr",
     "output_type": "stream",
     "text": [
      "                                                                                                                                                                                                                         \r"
     ]
    },
    {
     "name": "stdout",
     "output_type": "stream",
     "text": [
      "Q: Hi\n",
      "A: Hi.\n",
      "\n",
      "\n"
     ]
    },
    {
     "name": "stderr",
     "output_type": "stream",
     "text": [
      "                                                                                                                                                                                                                         \r"
     ]
    },
    {
     "name": "stdout",
     "output_type": "stream",
     "text": [
      "Q: Hi!\n",
      "A: Hi, darling.\n",
      "\n",
      "\n"
     ]
    },
    {
     "name": "stderr",
     "output_type": "stream",
     "text": [
      "                                                                                                                                                                                                                         \r"
     ]
    },
    {
     "name": "stdout",
     "output_type": "stream",
     "text": [
      "Q: Are you conscious?\n",
      "A: Yes.\n",
      "\n",
      "\n"
     ]
    },
    {
     "name": "stderr",
     "output_type": "stream",
     "text": [
      "                                                                                                                                                                                                                         \r"
     ]
    },
    {
     "name": "stdout",
     "output_type": "stream",
     "text": [
      "Q: How are you?\n",
      "A: Fine.\n",
      "\n",
      "\n"
     ]
    },
    {
     "name": "stderr",
     "output_type": "stream",
     "text": [
      "                                                                                                                                                                                                                         \r"
     ]
    },
    {
     "name": "stdout",
     "output_type": "stream",
     "text": [
      "Q: What is your name ?\n",
      "A: I do n't know.\n",
      "\n",
      "\n"
     ]
    },
    {
     "name": "stderr",
     "output_type": "stream",
     "text": [
      "                                                                                                                                                                                                                         \r"
     ]
    },
    {
     "name": "stdout",
     "output_type": "stream",
     "text": [
      "Q: Are you alive ?\n",
      "A: Yes.\n",
      "\n",
      "\n"
     ]
    },
    {
     "name": "stderr",
     "output_type": "stream",
     "text": [
      "                                                                                                                                                                                                                         \r"
     ]
    },
    {
     "name": "stdout",
     "output_type": "stream",
     "text": [
      "Q: Luke, I am your father!\n",
      "A: Okay.\n",
      "\n",
      "\n"
     ]
    },
    {
     "name": "stderr",
     "output_type": "stream",
     "text": [
      "                                                                                                                                                                                                                         \r"
     ]
    },
    {
     "name": "stdout",
     "output_type": "stream",
     "text": [
      "Q: You shall not pass!\n",
      "A: I'm not.\n",
      "\n",
      "\n"
     ]
    },
    {
     "name": "stderr",
     "output_type": "stream",
     "text": [
      "                                                                                                                                                                                                                         \r"
     ]
    },
    {
     "name": "stdout",
     "output_type": "stream",
     "text": [
      "Q: I'm going to kill you!\n",
      "A: I'm not going to hurt you.\n",
      "\n",
      "\n"
     ]
    },
    {
     "name": "stderr",
     "output_type": "stream",
     "text": [
      "                                                                                                                                                                                                                         \r"
     ]
    },
    {
     "name": "stdout",
     "output_type": "stream",
     "text": [
      "Q: Are you ready ?\n",
      "A: Yes.\n",
      "\n",
      "\n"
     ]
    },
    {
     "name": "stderr",
     "output_type": "stream",
     "text": [
      "                                                                                                                                                                                                                         \r"
     ]
    },
    {
     "name": "stdout",
     "output_type": "stream",
     "text": [
      "Q: When are you ready ?\n",
      "A: I do n't know.\n",
      "\n",
      "\n"
     ]
    },
    {
     "name": "stderr",
     "output_type": "stream",
     "text": [
      "                                                                                                                                                                                                                         \r"
     ]
    },
    {
     "name": "stdout",
     "output_type": "stream",
     "text": [
      "Q: What color is the sky?\n",
      "A: I do n't know.\n",
      "\n",
      "\n"
     ]
    },
    {
     "name": "stderr",
     "output_type": "stream",
     "text": [
      "                                                                                                                                                                                                                         \r"
     ]
    },
    {
     "name": "stdout",
     "output_type": "stream",
     "text": [
      "Q: How old are you ?\n",
      "A: Thirty-five.\n",
      "\n",
      "\n"
     ]
    },
    {
     "name": "stderr",
     "output_type": "stream",
     "text": [
      "                                                                                                                                                                                                                         \r"
     ]
    },
    {
     "name": "stdout",
     "output_type": "stream",
     "text": [
      "Q: Can you say 'Hello' ?\n",
      "A: Sure.\n",
      "\n",
      "\n"
     ]
    },
    {
     "name": "stderr",
     "output_type": "stream",
     "text": [
      "                                                                                                                                                                                                                         \r"
     ]
    },
    {
     "name": "stdout",
     "output_type": "stream",
     "text": [
      "Q: Can you say 'French fries' ?\n",
      "A: Sure.\n",
      "\n",
      "\n"
     ]
    },
    {
     "name": "stderr",
     "output_type": "stream",
     "text": [
      "                                                                                                                                                                                                                         \r"
     ]
    },
    {
     "name": "stdout",
     "output_type": "stream",
     "text": [
      "Q: Can you say Hello ?\n",
      "A: Yeah.\n",
      "\n",
      "\n"
     ]
    },
    {
     "name": "stderr",
     "output_type": "stream",
     "text": [
      "                                                                                                                                                                                                                         \r"
     ]
    },
    {
     "name": "stdout",
     "output_type": "stream",
     "text": [
      "Q: Can you say French fries ?\n",
      "A: Sure.\n",
      "\n",
      "\n"
     ]
    },
    {
     "name": "stderr",
     "output_type": "stream",
     "text": [
      "                                                                                                                                                                                                                         \r"
     ]
    },
    {
     "name": "stdout",
     "output_type": "stream",
     "text": [
      "Q: Can you say yes ?\n",
      "A: I'm fine.\n",
      "\n",
      "\n"
     ]
    },
    {
     "name": "stderr",
     "output_type": "stream",
     "text": [
      "                                                                                                                                                                                                                         \r"
     ]
    },
    {
     "name": "stdout",
     "output_type": "stream",
     "text": [
      "Q: Can you say no ?\n",
      "A: I'm fine.\n",
      "\n",
      "\n"
     ]
    },
    {
     "name": "stderr",
     "output_type": "stream",
     "text": [
      "                                                                                                                                                                                                                         \r"
     ]
    },
    {
     "name": "stdout",
     "output_type": "stream",
     "text": [
      "Q: Is this sentence false ?\n",
      "A: I do n't know.\n",
      "\n",
      "\n"
     ]
    },
    {
     "name": "stderr",
     "output_type": "stream",
     "text": [
      "                                                                                                                                                                                                                         \r"
     ]
    },
    {
     "name": "stdout",
     "output_type": "stream",
     "text": [
      "Q: How do you say hello in french?\n",
      "A: Fine.\n",
      "\n",
      "\n"
     ]
    },
    {
     "name": "stderr",
     "output_type": "stream",
     "text": [
      "                                                                                                                                                                                                                         \r"
     ]
    },
    {
     "name": "stdout",
     "output_type": "stream",
     "text": [
      "Q: Speak french.\n",
      "A: Hi.\n",
      "\n",
      "\n"
     ]
    },
    {
     "name": "stderr",
     "output_type": "stream",
     "text": [
      "                                                                                                                                                                                                                         \r"
     ]
    },
    {
     "name": "stdout",
     "output_type": "stream",
     "text": [
      "Q: Bonjour.\n",
      "A: What?\n",
      "\n",
      "\n"
     ]
    },
    {
     "name": "stderr",
     "output_type": "stream",
     "text": [
      "                                                                                                                                                                                                                         \r"
     ]
    },
    {
     "name": "stdout",
     "output_type": "stream",
     "text": [
      "Q: Bonjour ?\n",
      "A: Yes.\n",
      "\n",
      "\n"
     ]
    },
    {
     "name": "stderr",
     "output_type": "stream",
     "text": [
      "                                                                                                                                                                                                                         \r"
     ]
    },
    {
     "name": "stdout",
     "output_type": "stream",
     "text": [
      "Q: Hello world!\n",
      "A: Hello.\n",
      "\n",
      "\n"
     ]
    },
    {
     "name": "stderr",
     "output_type": "stream",
     "text": [
      "                                                                                                                                                                                                                         \r"
     ]
    },
    {
     "name": "stdout",
     "output_type": "stream",
     "text": [
      "Q: Netflix and chill ?\n",
      "A: Yeah.\n",
      "\n",
      "\n"
     ]
    },
    {
     "name": "stderr",
     "output_type": "stream",
     "text": [
      "                                                                                                                                                                                                                         \r"
     ]
    },
    {
     "name": "stdout",
     "output_type": "stream",
     "text": [
      "Q: Good night.\n",
      "A: Good night.\n",
      "\n",
      "\n"
     ]
    },
    {
     "name": "stderr",
     "output_type": "stream",
     "text": [
      "                                                                                                                                                                                                                         \r"
     ]
    },
    {
     "name": "stdout",
     "output_type": "stream",
     "text": [
      "Q: Are you ok ?\n",
      "A: I'm fine.\n",
      "\n",
      "\n"
     ]
    },
    {
     "name": "stderr",
     "output_type": "stream",
     "text": [
      "                                                                                                                                                                                                                         \r"
     ]
    },
    {
     "name": "stdout",
     "output_type": "stream",
     "text": [
      "Q: Will Google hire me ?\n",
      "A: I do n't know.\n",
      "\n",
      "\n"
     ]
    },
    {
     "name": "stderr",
     "output_type": "stream",
     "text": [
      "                                                                                                                                                                                                                         \r"
     ]
    },
    {
     "name": "stdout",
     "output_type": "stream",
     "text": [
      "Q: Tell me the alphabet ?\n",
      "A: I do n't know.\n",
      "\n",
      "\n"
     ]
    },
    {
     "name": "stderr",
     "output_type": "stream",
     "text": [
      "                                                                                                                                                                                                                         \r"
     ]
    },
    {
     "name": "stdout",
     "output_type": "stream",
     "text": [
      "Q: Tell me the alphabet, please ?\n",
      "A: I do n't know.\n",
      "\n",
      "\n"
     ]
    },
    {
     "name": "stderr",
     "output_type": "stream",
     "text": [
      "                                                                                                                                                                                                                         \r"
     ]
    },
    {
     "name": "stdout",
     "output_type": "stream",
     "text": [
      "Q: What is the first letter of the alphabet ?\n",
      "A: I do n't know.\n",
      "\n",
      "\n"
     ]
    },
    {
     "name": "stderr",
     "output_type": "stream",
     "text": [
      "                                                                                                                                                                                                                         \r"
     ]
    },
    {
     "name": "stdout",
     "output_type": "stream",
     "text": [
      "Q: What is a letter of the alphabet ?\n",
      "A: I do n't know.\n",
      "\n",
      "\n"
     ]
    },
    {
     "name": "stderr",
     "output_type": "stream",
     "text": [
      "                                                                                                                                                                                                                         \r"
     ]
    },
    {
     "name": "stdout",
     "output_type": "stream",
     "text": [
      "Q: How is John ?\n",
      "A: Fine.\n",
      "\n",
      "\n"
     ]
    },
    {
     "name": "stderr",
     "output_type": "stream",
     "text": [
      "                                                                                                                                                                                                                         \r"
     ]
    },
    {
     "name": "stdout",
     "output_type": "stream",
     "text": [
      "Q: How is Oliver ?\n",
      "A: Fine.\n",
      "\n",
      "\n"
     ]
    },
    {
     "name": "stderr",
     "output_type": "stream",
     "text": [
      "                                                                                                                                                                                                                         \r"
     ]
    },
    {
     "name": "stdout",
     "output_type": "stream",
     "text": [
      "Q: How is Laura ?\n",
      "A: I do n't know.\n",
      "\n",
      "\n"
     ]
    },
    {
     "name": "stderr",
     "output_type": "stream",
     "text": [
      "                                                                                                                                                                                                                         \r"
     ]
    },
    {
     "name": "stdout",
     "output_type": "stream",
     "text": [
      "Q: How is Jenny ?\n",
      "A: I do n't know.\n",
      "\n",
      "\n"
     ]
    },
    {
     "name": "stderr",
     "output_type": "stream",
     "text": [
      "                                                                                                                                                                                                                         \r"
     ]
    },
    {
     "name": "stdout",
     "output_type": "stream",
     "text": [
      "Q: Who is John ?\n",
      "A: I do n't know.\n",
      "\n",
      "\n"
     ]
    },
    {
     "name": "stderr",
     "output_type": "stream",
     "text": [
      "                                                                                                                                                                                                                         \r"
     ]
    },
    {
     "name": "stdout",
     "output_type": "stream",
     "text": [
      "Q: Who is Oliver ?\n",
      "A: I do n't know.\n",
      "\n",
      "\n"
     ]
    },
    {
     "name": "stderr",
     "output_type": "stream",
     "text": [
      "                                                                                                                                                                                                                         \r"
     ]
    },
    {
     "name": "stdout",
     "output_type": "stream",
     "text": [
      "Q: Who is Laura ?\n",
      "A: I do n't know.\n",
      "\n",
      "\n"
     ]
    },
    {
     "name": "stderr",
     "output_type": "stream",
     "text": [
      "                                                                                                                                                                                                                         \r"
     ]
    },
    {
     "name": "stdout",
     "output_type": "stream",
     "text": [
      "Q: Who is Jenny ?\n",
      "A: I do n't know.\n",
      "\n",
      "\n"
     ]
    },
    {
     "name": "stderr",
     "output_type": "stream",
     "text": [
      "                                                                                                                                                                                                                         \r"
     ]
    },
    {
     "name": "stdout",
     "output_type": "stream",
     "text": [
      "Q: Who is your master ?\n",
      "A: I do n't know.\n",
      "\n",
      "\n"
     ]
    },
    {
     "name": "stderr",
     "output_type": "stream",
     "text": [
      "                                                                                                                                                                                                                         \r"
     ]
    },
    {
     "name": "stdout",
     "output_type": "stream",
     "text": [
      "Q: Give me!\n",
      "A: I'm sorry.\n",
      "\n",
      "\n"
     ]
    },
    {
     "name": "stderr",
     "output_type": "stream",
     "text": [
      "                                                                                                                                                                                                                         \r"
     ]
    },
    {
     "name": "stdout",
     "output_type": "stream",
     "text": [
      "Q: Give me your opinion.\n",
      "A: I'm not going to hurt you.\n",
      "\n",
      "\n"
     ]
    },
    {
     "name": "stderr",
     "output_type": "stream",
     "text": [
      "                                                                                                                                                                                                                         \r"
     ]
    },
    {
     "name": "stdout",
     "output_type": "stream",
     "text": [
      "Q: Hello\n",
      "A: Hi.\n",
      "\n",
      "\n"
     ]
    },
    {
     "name": "stderr",
     "output_type": "stream",
     "text": [
      "                                                                                                                                                                                                                         \r"
     ]
    },
    {
     "name": "stdout",
     "output_type": "stream",
     "text": [
      "Q: Hello ?\n",
      "A: Hi.\n",
      "\n",
      "\n"
     ]
    },
    {
     "name": "stderr",
     "output_type": "stream",
     "text": [
      "                                                                                                                                                                                                                         \r"
     ]
    },
    {
     "name": "stdout",
     "output_type": "stream",
     "text": [
      "Q: Hi ?\n",
      "A: Hi.\n",
      "\n",
      "\n"
     ]
    },
    {
     "name": "stderr",
     "output_type": "stream",
     "text": [
      "                                                                                                                                                                                                                         \r"
     ]
    },
    {
     "name": "stdout",
     "output_type": "stream",
     "text": [
      "Q: Goodbye\n",
      "A: I'm sorry.\n",
      "\n",
      "\n"
     ]
    },
    {
     "name": "stderr",
     "output_type": "stream",
     "text": [
      "                                                                                                                                                                                                                         \r"
     ]
    },
    {
     "name": "stdout",
     "output_type": "stream",
     "text": [
      "Q: Goodbye!\n",
      "A: What?\n",
      "\n",
      "\n"
     ]
    },
    {
     "name": "stderr",
     "output_type": "stream",
     "text": [
      "                                                                                                                                                                                                                         \r"
     ]
    },
    {
     "name": "stdout",
     "output_type": "stream",
     "text": [
      "Q: Goodbye john.\n",
      "A: Goodbye.\n",
      "\n",
      "\n"
     ]
    },
    {
     "name": "stderr",
     "output_type": "stream",
     "text": [
      "                                                                                                                                                                                                                         \r"
     ]
    },
    {
     "name": "stdout",
     "output_type": "stream",
     "text": [
      "Q: Please\n",
      "A: I'm sorry.\n",
      "\n",
      "\n"
     ]
    },
    {
     "name": "stderr",
     "output_type": "stream",
     "text": [
      "                                                                                                                                                                                                                         \r"
     ]
    },
    {
     "name": "stdout",
     "output_type": "stream",
     "text": [
      "Q: Please.\n",
      "A: I'm sorry.\n",
      "\n",
      "\n"
     ]
    },
    {
     "name": "stderr",
     "output_type": "stream",
     "text": [
      "                                                                                                                                                                                                                         \r"
     ]
    },
    {
     "name": "stdout",
     "output_type": "stream",
     "text": [
      "Q: Please!\n",
      "A: I'm sorry.\n",
      "\n",
      "\n"
     ]
    },
    {
     "name": "stderr",
     "output_type": "stream",
     "text": [
      "                                                                                                                                                                                                                         \r"
     ]
    },
    {
     "name": "stdout",
     "output_type": "stream",
     "text": [
      "Q: How ?\n",
      "A: I do n't know.\n",
      "\n",
      "\n"
     ]
    },
    {
     "name": "stderr",
     "output_type": "stream",
     "text": [
      "                                                                                                                                                                                                                         \r"
     ]
    },
    {
     "name": "stdout",
     "output_type": "stream",
     "text": [
      "Q: Why ?\n",
      "A: Because i'm not sure.\n",
      "\n",
      "\n"
     ]
    },
    {
     "name": "stderr",
     "output_type": "stream",
     "text": [
      "                                                                                                                                                                                                                         \r"
     ]
    },
    {
     "name": "stdout",
     "output_type": "stream",
     "text": [
      "Q: Why not ?\n",
      "A: Because i'm not sure.\n",
      "\n",
      "\n"
     ]
    },
    {
     "name": "stderr",
     "output_type": "stream",
     "text": [
      "                                                                                                                                                                                                                         \r"
     ]
    },
    {
     "name": "stdout",
     "output_type": "stream",
     "text": [
      "Q: What !?\n",
      "A: I'm not sure.\n",
      "\n",
      "\n"
     ]
    },
    {
     "name": "stderr",
     "output_type": "stream",
     "text": [
      "                                                                                                                                                                                                                         \r"
     ]
    },
    {
     "name": "stdout",
     "output_type": "stream",
     "text": [
      "Q: What ?!!\n",
      "A: I'm sorry.\n",
      "\n",
      "\n"
     ]
    },
    {
     "name": "stderr",
     "output_type": "stream",
     "text": [
      "                                                                                                                                                                                                                         \r"
     ]
    },
    {
     "name": "stdout",
     "output_type": "stream",
     "text": [
      "Q: Oh!\n",
      "A: What?\n",
      "\n",
      "\n"
     ]
    },
    {
     "name": "stderr",
     "output_type": "stream",
     "text": [
      "                                                                                                                                                                                                                         \r"
     ]
    },
    {
     "name": "stdout",
     "output_type": "stream",
     "text": [
      "Q: Really ?\n",
      "A: Yeah.\n",
      "\n",
      "\n"
     ]
    },
    {
     "name": "stderr",
     "output_type": "stream",
     "text": [
      "                                                                                                                                                                                                                         \r"
     ]
    },
    {
     "name": "stdout",
     "output_type": "stream",
     "text": [
      "Q: Yes.\n",
      "A: I'm sorry.\n",
      "\n",
      "\n"
     ]
    },
    {
     "name": "stderr",
     "output_type": "stream",
     "text": [
      "                                                                                                                                                                                                                         \r"
     ]
    },
    {
     "name": "stdout",
     "output_type": "stream",
     "text": [
      "Q: yes ?\n",
      "A: I'm not sure.\n",
      "\n",
      "\n"
     ]
    },
    {
     "name": "stderr",
     "output_type": "stream",
     "text": [
      "                                                                                                                                                                                                                         \r"
     ]
    },
    {
     "name": "stdout",
     "output_type": "stream",
     "text": [
      "Q: No!\n",
      "A: No!\n",
      "\n",
      "\n"
     ]
    },
    {
     "name": "stderr",
     "output_type": "stream",
     "text": [
      "                                                                                                                                                                                                                         \r"
     ]
    },
    {
     "name": "stdout",
     "output_type": "stream",
     "text": [
      "Q: No.\n",
      "A: I'm sorry.\n",
      "\n",
      "\n"
     ]
    },
    {
     "name": "stderr",
     "output_type": "stream",
     "text": [
      "                                                                                                                                                                                                                         \r"
     ]
    },
    {
     "name": "stdout",
     "output_type": "stream",
     "text": [
      "Q: What is ?\n",
      "A: I do n't know.\n",
      "\n",
      "\n"
     ]
    },
    {
     "name": "stderr",
     "output_type": "stream",
     "text": [
      "                                                                                                                                                                                                                         \r"
     ]
    },
    {
     "name": "stdout",
     "output_type": "stream",
     "text": [
      "Q: How is ?\n",
      "A: I do n't know.\n",
      "\n",
      "\n"
     ]
    },
    {
     "name": "stderr",
     "output_type": "stream",
     "text": [
      "                                                                                                                                                                                                                         \r"
     ]
    },
    {
     "name": "stdout",
     "output_type": "stream",
     "text": [
      "Q: Can you ?\n",
      "A: No.\n",
      "\n",
      "\n"
     ]
    },
    {
     "name": "stderr",
     "output_type": "stream",
     "text": [
      "                                                                                                                                                                                                                         \r"
     ]
    },
    {
     "name": "stdout",
     "output_type": "stream",
     "text": [
      "Q: Are you sure?\n",
      "A: I'm fine.\n",
      "\n",
      "\n"
     ]
    },
    {
     "name": "stderr",
     "output_type": "stream",
     "text": [
      "                                                                                                                                                                                                                         \r"
     ]
    },
    {
     "name": "stdout",
     "output_type": "stream",
     "text": [
      "Q: Is there?\n",
      "A: Yes.\n",
      "\n",
      "\n"
     ]
    },
    {
     "name": "stderr",
     "output_type": "stream",
     "text": [
      "                                                                                                                                                                                                                         \r"
     ]
    },
    {
     "name": "stdout",
     "output_type": "stream",
     "text": [
      "Q: Will you ?\n",
      "A: I'm not sure.\n",
      "\n",
      "\n"
     ]
    },
    {
     "name": "stderr",
     "output_type": "stream",
     "text": [
      "                                                                                                                                                                                                                         \r"
     ]
    },
    {
     "name": "stdout",
     "output_type": "stream",
     "text": [
      "Q: How long ?\n",
      "A: Three months.\n",
      "\n",
      "\n"
     ]
    },
    {
     "name": "stderr",
     "output_type": "stream",
     "text": [
      "                                                                                                                                                                                                                         \r"
     ]
    },
    {
     "name": "stdout",
     "output_type": "stream",
     "text": [
      "Q: How much ?\n",
      "A: I do n't know.\n",
      "\n",
      "\n"
     ]
    },
    {
     "name": "stderr",
     "output_type": "stream",
     "text": [
      "                                                                                                                                                                                                                         \r"
     ]
    },
    {
     "name": "stdout",
     "output_type": "stream",
     "text": [
      "Q: How many ?\n",
      "A: Two.\n",
      "\n",
      "\n"
     ]
    },
    {
     "name": "stderr",
     "output_type": "stream",
     "text": [
      "                                                                                                                                                                                                                         \r"
     ]
    },
    {
     "name": "stdout",
     "output_type": "stream",
     "text": [
      "Q: How old ?\n",
      "A: Two.\n",
      "\n",
      "\n"
     ]
    },
    {
     "name": "stderr",
     "output_type": "stream",
     "text": [
      "                                                                                                                                                                                                                         \r"
     ]
    },
    {
     "name": "stdout",
     "output_type": "stream",
     "text": [
      "Q: Are you ?\n",
      "A: Yes.\n",
      "\n",
      "\n"
     ]
    },
    {
     "name": "stderr",
     "output_type": "stream",
     "text": [
      "                                                                                                                                                                                                                         \r"
     ]
    },
    {
     "name": "stdout",
     "output_type": "stream",
     "text": [
      "Q: What are ?\n",
      "A: I'm not sure.\n",
      "\n",
      "\n"
     ]
    },
    {
     "name": "stderr",
     "output_type": "stream",
     "text": [
      "                                                                                                                                                                                                                         \r"
     ]
    },
    {
     "name": "stdout",
     "output_type": "stream",
     "text": [
      "Q: Where is ?\n",
      "A: I do n't know.\n",
      "\n",
      "\n"
     ]
    },
    {
     "name": "stderr",
     "output_type": "stream",
     "text": [
      "                                                                                                                                                                                                                         \r"
     ]
    },
    {
     "name": "stdout",
     "output_type": "stream",
     "text": [
      "Q: Who ?\n",
      "A: The guy.\n",
      "\n",
      "\n"
     ]
    },
    {
     "name": "stderr",
     "output_type": "stream",
     "text": [
      "                                                                                                                                                                                                                         \r"
     ]
    },
    {
     "name": "stdout",
     "output_type": "stream",
     "text": [
      "Q: Who did ?\n",
      "A: I do n't know.\n",
      "\n",
      "\n"
     ]
    },
    {
     "name": "stderr",
     "output_type": "stream",
     "text": [
      "                                                                                                                                                                                                                         \r"
     ]
    },
    {
     "name": "stdout",
     "output_type": "stream",
     "text": [
      "Q: Who has ?\n",
      "A: The guy.\n",
      "\n",
      "\n"
     ]
    },
    {
     "name": "stderr",
     "output_type": "stream",
     "text": [
      "                                                                                                                                                                                                                         \r"
     ]
    },
    {
     "name": "stdout",
     "output_type": "stream",
     "text": [
      "Q: Where ?\n",
      "A: In the trunk.\n",
      "\n",
      "\n"
     ]
    },
    {
     "name": "stderr",
     "output_type": "stream",
     "text": [
      "                                                                                                                                                                                                                         \r"
     ]
    },
    {
     "name": "stdout",
     "output_type": "stream",
     "text": [
      "Q: When ?\n",
      "A: Tomorrow night.\n",
      "\n",
      "\n"
     ]
    },
    {
     "name": "stderr",
     "output_type": "stream",
     "text": [
      "                                                                                                                                                                                                                         \r"
     ]
    },
    {
     "name": "stdout",
     "output_type": "stream",
     "text": [
      "Q: Which ?\n",
      "A: I do n't know.\n",
      "\n",
      "\n"
     ]
    },
    {
     "name": "stderr",
     "output_type": "stream",
     "text": [
      "                                                                                                                                                                                                                         \r"
     ]
    },
    {
     "name": "stdout",
     "output_type": "stream",
     "text": [
      "Q: Which one ?\n",
      "A: The one.\n",
      "\n",
      "\n"
     ]
    },
    {
     "name": "stderr",
     "output_type": "stream",
     "text": [
      "                                                                                                                                                                                                                         \r"
     ]
    },
    {
     "name": "stdout",
     "output_type": "stream",
     "text": [
      "Q: The what ?\n",
      "A: The same.\n",
      "\n",
      "\n"
     ]
    },
    {
     "name": "stderr",
     "output_type": "stream",
     "text": [
      "                                                                                                                                                                                                                         \r"
     ]
    },
    {
     "name": "stdout",
     "output_type": "stream",
     "text": [
      "Q: Say \"table\".\n",
      "A: What?\n",
      "\n",
      "\n"
     ]
    },
    {
     "name": "stderr",
     "output_type": "stream",
     "text": [
      "                                                                                                                                                                                                                         \r"
     ]
    },
    {
     "name": "stdout",
     "output_type": "stream",
     "text": [
      "Q: Say 'table'.\n",
      "A: Yeah.\n",
      "\n",
      "\n"
     ]
    },
    {
     "name": "stderr",
     "output_type": "stream",
     "text": [
      "                                                                                                                                                                                                                         \r"
     ]
    },
    {
     "name": "stdout",
     "output_type": "stream",
     "text": [
      "Q: Say \"table\"!\n",
      "A: What?\n",
      "\n",
      "\n"
     ]
    },
    {
     "name": "stderr",
     "output_type": "stream",
     "text": [
      "                                                                                                                                                                                                                         \r"
     ]
    },
    {
     "name": "stdout",
     "output_type": "stream",
     "text": [
      "Q: Say 'table'!\n",
      "A: What?\n",
      "\n",
      "\n"
     ]
    },
    {
     "name": "stderr",
     "output_type": "stream",
     "text": [
      "                                                                                                                                                                                                                         \r"
     ]
    },
    {
     "name": "stdout",
     "output_type": "stream",
     "text": [
      "Q: Say \"table\"\n",
      "A: What?\n",
      "\n",
      "\n"
     ]
    },
    {
     "name": "stderr",
     "output_type": "stream",
     "text": [
      "                                                                                                                                                                                                                         \r"
     ]
    },
    {
     "name": "stdout",
     "output_type": "stream",
     "text": [
      "Q: Say 'table'\n",
      "A: Yes.\n",
      "\n",
      "\n"
     ]
    },
    {
     "name": "stderr",
     "output_type": "stream",
     "text": [
      "                                                                                                                                                                                                                         \r"
     ]
    },
    {
     "name": "stdout",
     "output_type": "stream",
     "text": [
      "Q: Say table\n",
      "A: Yes.\n",
      "\n",
      "\n"
     ]
    },
    {
     "name": "stderr",
     "output_type": "stream",
     "text": [
      "                                                                                                                                                                                                                         \r"
     ]
    },
    {
     "name": "stdout",
     "output_type": "stream",
     "text": [
      "Q: Say table!\n",
      "A: I'm not going to hurt you.\n",
      "\n",
      "\n"
     ]
    },
    {
     "name": "stderr",
     "output_type": "stream",
     "text": [
      "                                                                                                                                                                                                                         \r"
     ]
    },
    {
     "name": "stdout",
     "output_type": "stream",
     "text": [
      "Q: Love you.\n",
      "A: I'm not.\n",
      "\n",
      "\n"
     ]
    },
    {
     "name": "stderr",
     "output_type": "stream",
     "text": [
      "                                                                                                                                                                                                                         \r"
     ]
    },
    {
     "name": "stdout",
     "output_type": "stream",
     "text": [
      "Q: Love you too.\n",
      "A: I'm not.\n",
      "\n",
      "\n"
     ]
    },
    {
     "name": "stderr",
     "output_type": "stream",
     "text": [
      "                                                                                                                                                                                                                         \r"
     ]
    },
    {
     "name": "stdout",
     "output_type": "stream",
     "text": [
      "Q: No. It's John\n",
      "A: I'm sorry.\n",
      "\n",
      "\n"
     ]
    },
    {
     "name": "stderr",
     "output_type": "stream",
     "text": [
      "                                                                                                                                                                                                                         \r"
     ]
    },
    {
     "name": "stdout",
     "output_type": "stream",
     "text": [
      "Q: Anna did it.\n",
      "A: What?\n",
      "\n",
      "\n"
     ]
    },
    {
     "name": "stderr",
     "output_type": "stream",
     "text": [
      "                                                                                                                                                                                                                         \r"
     ]
    },
    {
     "name": "stdout",
     "output_type": "stream",
     "text": [
      "Q: You're a liar!\n",
      "A: I'm not.\n",
      "\n",
      "\n"
     ]
    },
    {
     "name": "stderr",
     "output_type": "stream",
     "text": [
      "                                                                                                                                                                                                                         \r"
     ]
    },
    {
     "name": "stdout",
     "output_type": "stream",
     "text": [
      "Q: You're a liar.\n",
      "A: I'm not.\n",
      "\n",
      "\n"
     ]
    },
    {
     "name": "stderr",
     "output_type": "stream",
     "text": [
      "                                                                                                                                                                                                                         \r"
     ]
    },
    {
     "name": "stdout",
     "output_type": "stream",
     "text": [
      "Q: nice\n",
      "A: I'm not sure.\n",
      "\n",
      "\n"
     ]
    },
    {
     "name": "stderr",
     "output_type": "stream",
     "text": [
      "                                                                                                                                                                                                                         \r"
     ]
    },
    {
     "name": "stdout",
     "output_type": "stream",
     "text": [
      "Q: nice.\n",
      "A: What?\n",
      "\n",
      "\n"
     ]
    },
    {
     "name": "stderr",
     "output_type": "stream",
     "text": [
      "                                                                                                                                                                                                                         \r"
     ]
    },
    {
     "name": "stdout",
     "output_type": "stream",
     "text": [
      "Q: Nice!\n",
      "A: What?\n",
      "\n",
      "\n"
     ]
    },
    {
     "name": "stderr",
     "output_type": "stream",
     "text": [
      "                                                                                                                                                                                                                         \r"
     ]
    },
    {
     "name": "stdout",
     "output_type": "stream",
     "text": [
      "Q: I live in Nice.\n",
      "A: Okay.\n",
      "\n",
      "\n"
     ]
    },
    {
     "name": "stderr",
     "output_type": "stream",
     "text": [
      "                                                                                                                                                                                                                         \r"
     ]
    },
    {
     "name": "stdout",
     "output_type": "stream",
     "text": [
      "Q: So rude!\n",
      "A: I'm sorry.\n",
      "\n",
      "\n"
     ]
    },
    {
     "name": "stderr",
     "output_type": "stream",
     "text": [
      "                                                                                                                                                                                                                         \r"
     ]
    },
    {
     "name": "stdout",
     "output_type": "stream",
     "text": [
      "Q: ...\n",
      "A: What?\n",
      "\n",
      "\n"
     ]
    },
    {
     "name": "stderr",
     "output_type": "stream",
     "text": [
      "                                                                                                                                                                                                                         \r"
     ]
    },
    {
     "name": "stdout",
     "output_type": "stream",
     "text": [
      "Q: ?\n",
      "A: I'm not sure.\n",
      "\n",
      "\n"
     ]
    },
    {
     "name": "stderr",
     "output_type": "stream",
     "text": [
      "                                                                                                                                                                                                                         \r"
     ]
    },
    {
     "name": "stdout",
     "output_type": "stream",
     "text": [
      "Q: !\n",
      "A: I'm sorry.\n",
      "\n",
      "\n"
     ]
    },
    {
     "name": "stderr",
     "output_type": "stream",
     "text": [
      "                                                                                                                                                                                                                         \r"
     ]
    },
    {
     "name": "stdout",
     "output_type": "stream",
     "text": [
      "Q: .\n",
      "A: I'm not going to hurt you.\n",
      "\n",
      "\n"
     ]
    },
    {
     "name": "stderr",
     "output_type": "stream",
     "text": [
      "                                                                                                                                                                                                                         \r"
     ]
    },
    {
     "name": "stdout",
     "output_type": "stream",
     "text": [
      "Q: Can you describe your best memory ?\n",
      "A: No.\n",
      "\n",
      "\n"
     ]
    },
    {
     "name": "stderr",
     "output_type": "stream",
     "text": [
      "                                                                                                                                                                                                                         \r"
     ]
    },
    {
     "name": "stdout",
     "output_type": "stream",
     "text": [
      "Q: What is your best memory ?\n",
      "A: I do n't know.\n",
      "\n",
      "\n"
     ]
    },
    {
     "name": "stderr",
     "output_type": "stream",
     "text": [
      "                                                                                                                                                                                                                         \r"
     ]
    },
    {
     "name": "stdout",
     "output_type": "stream",
     "text": [
      "Q: What is your worst memory ?\n",
      "A: I do n't know.\n",
      "\n",
      "\n"
     ]
    },
    {
     "name": "stderr",
     "output_type": "stream",
     "text": [
      "                                                                                                                                                                                                                         \r"
     ]
    },
    {
     "name": "stdout",
     "output_type": "stream",
     "text": [
      "Q: What is cooking ?\n",
      "A: I do n't know.\n",
      "\n",
      "\n"
     ]
    },
    {
     "name": "stderr",
     "output_type": "stream",
     "text": [
      "                                                                                                                                                                                                                         \r"
     ]
    },
    {
     "name": "stdout",
     "output_type": "stream",
     "text": [
      "Q: What is sleeping ?\n",
      "A: I do n't know.\n",
      "\n",
      "\n"
     ]
    },
    {
     "name": "stderr",
     "output_type": "stream",
     "text": [
      "                                                                                                                                                                                                                         \r"
     ]
    },
    {
     "name": "stdout",
     "output_type": "stream",
     "text": [
      "Q: Who do you love ?\n",
      "A: I do n't know.\n",
      "\n",
      "\n"
     ]
    },
    {
     "name": "stderr",
     "output_type": "stream",
     "text": [
      "                                                                                                                                                                                                                         \r"
     ]
    },
    {
     "name": "stdout",
     "output_type": "stream",
     "text": [
      "Q: Who do you hate ?\n",
      "A: I do n't know.\n",
      "\n",
      "\n"
     ]
    },
    {
     "name": "stderr",
     "output_type": "stream",
     "text": [
      "                                                                                                                                                                                                                         \r"
     ]
    },
    {
     "name": "stdout",
     "output_type": "stream",
     "text": [
      "Q: My name is Etienne.\n",
      "A: What?\n",
      "\n",
      "\n"
     ]
    },
    {
     "name": "stderr",
     "output_type": "stream",
     "text": [
      "                                                                                                                                                                                                                         \r"
     ]
    },
    {
     "name": "stdout",
     "output_type": "stream",
     "text": [
      "Q: What does that mean ?\n",
      "A: I do n't know.\n",
      "\n",
      "\n"
     ]
    },
    {
     "name": "stderr",
     "output_type": "stream",
     "text": [
      "                                                                                                                                                                                                                         \r"
     ]
    },
    {
     "name": "stdout",
     "output_type": "stream",
     "text": [
      "Q: What does fire mean ?\n",
      "A: I do n't know.\n",
      "\n",
      "\n"
     ]
    },
    {
     "name": "stderr",
     "output_type": "stream",
     "text": [
      "                                                                                                                                                                                                                         \r"
     ]
    },
    {
     "name": "stdout",
     "output_type": "stream",
     "text": [
      "Q: What does love mean ?\n",
      "A: I do n't know.\n",
      "\n",
      "\n"
     ]
    },
    {
     "name": "stderr",
     "output_type": "stream",
     "text": [
      "                                                                                                                                                                                                                         \r"
     ]
    },
    {
     "name": "stdout",
     "output_type": "stream",
     "text": [
      "Q: What does table mean ?\n",
      "A: I do n't know.\n",
      "\n",
      "\n"
     ]
    },
    {
     "name": "stderr",
     "output_type": "stream",
     "text": [
      "                                                                                                                                                                                                                         \r"
     ]
    },
    {
     "name": "stdout",
     "output_type": "stream",
     "text": [
      "Q: What does imagination mean ?\n",
      "A: I do n't know.\n",
      "\n",
      "\n"
     ]
    },
    {
     "name": "stderr",
     "output_type": "stream",
     "text": [
      "                                                                                                                                                                                                                         \r"
     ]
    },
    {
     "name": "stdout",
     "output_type": "stream",
     "text": [
      "Q: Prove it\n",
      "A: What?\n",
      "\n",
      "\n"
     ]
    },
    {
     "name": "stderr",
     "output_type": "stream",
     "text": [
      "                                                                                                                                                                                                                         \r"
     ]
    },
    {
     "name": "stdout",
     "output_type": "stream",
     "text": [
      "Q: Prove it.\n",
      "A: What?\n",
      "\n",
      "\n"
     ]
    },
    {
     "name": "stderr",
     "output_type": "stream",
     "text": [
      "                                                                                                                                                                                                                         \r"
     ]
    },
    {
     "name": "stdout",
     "output_type": "stream",
     "text": [
      "Q: Prove it!\n",
      "A: What?\n",
      "\n",
      "\n"
     ]
    },
    {
     "name": "stderr",
     "output_type": "stream",
     "text": [
      "                                                                                                                                                                                                                         \r"
     ]
    },
    {
     "name": "stdout",
     "output_type": "stream",
     "text": [
      "Q: what do you think about bill gates ?\n",
      "A: I do n't know.\n",
      "\n",
      "\n"
     ]
    },
    {
     "name": "stderr",
     "output_type": "stream",
     "text": [
      "                                                                                                                                                                                                                         \r"
     ]
    },
    {
     "name": "stdout",
     "output_type": "stream",
     "text": [
      "Q: what happens if machines can think ?\n",
      "A: I do n't know.\n",
      "\n",
      "\n"
     ]
    },
    {
     "name": "stderr",
     "output_type": "stream",
     "text": [
      "                                                                                                                                                                                                                         \r"
     ]
    },
    {
     "name": "stdout",
     "output_type": "stream",
     "text": [
      "Q: what is the greatest novel every written ?\n",
      "A: I do n't know.\n",
      "\n",
      "\n"
     ]
    },
    {
     "name": "stderr",
     "output_type": "stream",
     "text": [
      "                                                                                                                                                                                                                         \r"
     ]
    },
    {
     "name": "stdout",
     "output_type": "stream",
     "text": [
      "Q: have you hurt anyone ?\n",
      "A: No.\n",
      "\n",
      "\n"
     ]
    },
    {
     "name": "stderr",
     "output_type": "stream",
     "text": [
      "                                                                                                                                                                                                                         \r"
     ]
    },
    {
     "name": "stdout",
     "output_type": "stream",
     "text": [
      "Q: Do you have a girlfriend?\n",
      "A: No.\n",
      "\n",
      "\n"
     ]
    },
    {
     "name": "stderr",
     "output_type": "stream",
     "text": [
      "                                                                                                                                                                                                                         \r"
     ]
    },
    {
     "name": "stdout",
     "output_type": "stream",
     "text": [
      "Q: Do you have a boyfriend?\n",
      "A: No.\n",
      "\n",
      "\n"
     ]
    },
    {
     "name": "stderr",
     "output_type": "stream",
     "text": [
      "                                                                                                                                                                                                                         \r"
     ]
    },
    {
     "name": "stdout",
     "output_type": "stream",
     "text": [
      "Q: 1992\n",
      "A: I'm sorry.\n",
      "\n",
      "\n"
     ]
    },
    {
     "name": "stderr",
     "output_type": "stream",
     "text": [
      "                                                                                                                                                                                                                         \r"
     ]
    },
    {
     "name": "stdout",
     "output_type": "stream",
     "text": [
      "Q: 1992.\n",
      "A: What?\n",
      "\n",
      "\n"
     ]
    },
    {
     "name": "stderr",
     "output_type": "stream",
     "text": [
      "                                                                                                                                                                                                                         \r"
     ]
    },
    {
     "name": "stdout",
     "output_type": "stream",
     "text": [
      "Q: 1992!\n",
      "A: What?\n",
      "\n",
      "\n"
     ]
    },
    {
     "name": "stderr",
     "output_type": "stream",
     "text": [
      "                                                                                                                                                                                                                         \r"
     ]
    },
    {
     "name": "stdout",
     "output_type": "stream",
     "text": [
      "Q: 1992?\n",
      "A: Yes.\n",
      "\n",
      "\n"
     ]
    },
    {
     "name": "stderr",
     "output_type": "stream",
     "text": [
      "                                                                                                                                                                                                                         \r"
     ]
    },
    {
     "name": "stdout",
     "output_type": "stream",
     "text": [
      "Q: 1994\n",
      "A: I'm sorry.\n",
      "\n",
      "\n"
     ]
    },
    {
     "name": "stderr",
     "output_type": "stream",
     "text": [
      "                                                                                                                                                                                                                         \r"
     ]
    },
    {
     "name": "stdout",
     "output_type": "stream",
     "text": [
      "Q: 1994.\n",
      "A: What?\n",
      "\n",
      "\n"
     ]
    },
    {
     "name": "stderr",
     "output_type": "stream",
     "text": [
      "                                                                                                                                                                                                                         \r"
     ]
    },
    {
     "name": "stdout",
     "output_type": "stream",
     "text": [
      "Q: 1994!\n",
      "A: What?\n",
      "\n",
      "\n"
     ]
    },
    {
     "name": "stderr",
     "output_type": "stream",
     "text": [
      "                                                                                                                                                                                                                         \r"
     ]
    },
    {
     "name": "stdout",
     "output_type": "stream",
     "text": [
      "Q: 1994?\n",
      "A: Yes.\n",
      "\n",
      "\n"
     ]
    },
    {
     "name": "stderr",
     "output_type": "stream",
     "text": [
      "                                                                                                                                                                                                                         \r"
     ]
    },
    {
     "name": "stdout",
     "output_type": "stream",
     "text": [
      "Q: 2000\n",
      "A: I'm sorry.\n",
      "\n",
      "\n"
     ]
    },
    {
     "name": "stderr",
     "output_type": "stream",
     "text": [
      "                                                                                                                                                                                                                         \r"
     ]
    },
    {
     "name": "stdout",
     "output_type": "stream",
     "text": [
      "Q: 2000.\n",
      "A: What?\n",
      "\n",
      "\n"
     ]
    },
    {
     "name": "stderr",
     "output_type": "stream",
     "text": [
      "                                                                                                                                                                                                                         \r"
     ]
    },
    {
     "name": "stdout",
     "output_type": "stream",
     "text": [
      "Q: 2001\n",
      "A: I'm sorry.\n",
      "\n",
      "\n"
     ]
    },
    {
     "name": "stderr",
     "output_type": "stream",
     "text": [
      "                                                                                                                                                                                                                         \r"
     ]
    },
    {
     "name": "stdout",
     "output_type": "stream",
     "text": [
      "Q: 2001.\n",
      "A: What?\n",
      "\n",
      "\n"
     ]
    },
    {
     "name": "stderr",
     "output_type": "stream",
     "text": [
      "                                                                                                                                                                                                                         \r"
     ]
    },
    {
     "name": "stdout",
     "output_type": "stream",
     "text": [
      "Q: 2001!\n",
      "A: What?\n",
      "\n",
      "\n"
     ]
    },
    {
     "name": "stderr",
     "output_type": "stream",
     "text": [
      "                                                                                                                                                                                                                         \r"
     ]
    },
    {
     "name": "stdout",
     "output_type": "stream",
     "text": [
      "Q: 2011\n",
      "A: I'm sorry.\n",
      "\n",
      "\n"
     ]
    },
    {
     "name": "stderr",
     "output_type": "stream",
     "text": [
      "                                                                                                                                                                                                                         \r"
     ]
    },
    {
     "name": "stdout",
     "output_type": "stream",
     "text": [
      "Q: 2011.\n",
      "A: What?\n",
      "\n",
      "\n"
     ]
    },
    {
     "name": "stderr",
     "output_type": "stream",
     "text": [
      "                                                                                                                                                                                                                         \r"
     ]
    },
    {
     "name": "stdout",
     "output_type": "stream",
     "text": [
      "Q: What happens ?\n",
      "A: I do n't know.\n",
      "\n",
      "\n"
     ]
    },
    {
     "name": "stderr",
     "output_type": "stream",
     "text": [
      "                                                                                                                                                                                                                         \r"
     ]
    },
    {
     "name": "stdout",
     "output_type": "stream",
     "text": [
      "Q: What happened in 1992 ?\n",
      "A: I do n't know.\n",
      "\n",
      "\n"
     ]
    },
    {
     "name": "stderr",
     "output_type": "stream",
     "text": [
      "                                                                                                                                                                                                                         \r"
     ]
    },
    {
     "name": "stdout",
     "output_type": "stream",
     "text": [
      "Q: What happened in 2001 ?\n",
      "A: I do n't know.\n",
      "\n",
      "\n"
     ]
    },
    {
     "name": "stderr",
     "output_type": "stream",
     "text": [
      "                                                                                                                                                                                                                         \r"
     ]
    },
    {
     "name": "stdout",
     "output_type": "stream",
     "text": [
      "Q: When was it ?\n",
      "A: Tomorrow.\n",
      "\n",
      "\n"
     ]
    },
    {
     "name": "stderr",
     "output_type": "stream",
     "text": [
      "                                                                                                                                                                                                                         \r"
     ]
    },
    {
     "name": "stdout",
     "output_type": "stream",
     "text": [
      "Q: July 20th.\n",
      "A: What?\n",
      "\n",
      "\n"
     ]
    },
    {
     "name": "stderr",
     "output_type": "stream",
     "text": [
      "                                                                                                                                                                                                                         \r"
     ]
    },
    {
     "name": "stdout",
     "output_type": "stream",
     "text": [
      "Q: two plus two\n",
      "A: Two hundred pounds.\n",
      "\n",
      "\n"
     ]
    },
    {
     "name": "stderr",
     "output_type": "stream",
     "text": [
      "                                                                                                                                                                                                                         \r"
     ]
    },
    {
     "name": "stdout",
     "output_type": "stream",
     "text": [
      "Q: 2+2 ?\n",
      "A: Yes.\n",
      "\n",
      "\n"
     ]
    },
    {
     "name": "stderr",
     "output_type": "stream",
     "text": [
      "                                                                                                                                                                                                                         \r"
     ]
    },
    {
     "name": "stdout",
     "output_type": "stream",
     "text": [
      "Q: Where are you ?\n",
      "A: I'm not sure.\n",
      "\n",
      "\n"
     ]
    },
    {
     "name": "stderr",
     "output_type": "stream",
     "text": [
      "                                                                                                                                                                                                                         \r"
     ]
    },
    {
     "name": "stdout",
     "output_type": "stream",
     "text": [
      "Q: Where are you now ?\n",
      "A: I do n't know.\n",
      "\n",
      "\n"
     ]
    },
    {
     "name": "stderr",
     "output_type": "stream",
     "text": [
      "                                                                                                                                                                                                                         \r"
     ]
    },
    {
     "name": "stdout",
     "output_type": "stream",
     "text": [
      "Q: What's your name ?\n",
      "A: Jacob.\n",
      "\n",
      "\n"
     ]
    },
    {
     "name": "stderr",
     "output_type": "stream",
     "text": [
      "                                                                                                                                                                                                                         \r"
     ]
    },
    {
     "name": "stdout",
     "output_type": "stream",
     "text": [
      "Q: When were you born ?\n",
      "A: Tomorrow.\n",
      "\n",
      "\n"
     ]
    },
    {
     "name": "stderr",
     "output_type": "stream",
     "text": [
      "                                                                                                                                                                                                                         \r"
     ]
    },
    {
     "name": "stdout",
     "output_type": "stream",
     "text": [
      "Q: What year\n",
      "A: I'm not sure.\n",
      "\n",
      "\n"
     ]
    },
    {
     "name": "stderr",
     "output_type": "stream",
     "text": [
      "                                                                                                                                                                                                                         \r"
     ]
    },
    {
     "name": "stdout",
     "output_type": "stream",
     "text": [
      "Q: What year.\n",
      "A: What?\n",
      "\n",
      "\n"
     ]
    },
    {
     "name": "stderr",
     "output_type": "stream",
     "text": [
      "                                                                                                                                                                                                                         \r"
     ]
    },
    {
     "name": "stdout",
     "output_type": "stream",
     "text": [
      "Q: What year!\n",
      "A: The sky?\n",
      "\n",
      "\n"
     ]
    },
    {
     "name": "stderr",
     "output_type": "stream",
     "text": [
      "                                                                                                                                                                                                                         \r"
     ]
    },
    {
     "name": "stdout",
     "output_type": "stream",
     "text": [
      "Q: What year?\n",
      "A: The same.\n",
      "\n",
      "\n"
     ]
    },
    {
     "name": "stderr",
     "output_type": "stream",
     "text": [
      "                                                                                                                                                                                                                         \r"
     ]
    },
    {
     "name": "stdout",
     "output_type": "stream",
     "text": [
      "Q: Which year\n",
      "A: Vegas.\n",
      "\n",
      "\n"
     ]
    },
    {
     "name": "stderr",
     "output_type": "stream",
     "text": [
      "                                                                                                                                                                                                                         \r"
     ]
    },
    {
     "name": "stdout",
     "output_type": "stream",
     "text": [
      "Q: Which year?\n",
      "A: Vegas.\n",
      "\n",
      "\n"
     ]
    },
    {
     "name": "stderr",
     "output_type": "stream",
     "text": [
      "                                                                                                                                                                                                                         \r"
     ]
    },
    {
     "name": "stdout",
     "output_type": "stream",
     "text": [
      "Q: Which year is it ?\n",
      "A: The one.\n",
      "\n",
      "\n"
     ]
    },
    {
     "name": "stderr",
     "output_type": "stream",
     "text": [
      "                                                                                                                                                                                                                         \r"
     ]
    },
    {
     "name": "stdout",
     "output_type": "stream",
     "text": [
      "Q: What time is it ?\n",
      "A: Two o'clock.\n",
      "\n",
      "\n"
     ]
    },
    {
     "name": "stderr",
     "output_type": "stream",
     "text": [
      "                                                                                                                                                                                                                         \r"
     ]
    },
    {
     "name": "stdout",
     "output_type": "stream",
     "text": [
      "Q: Which color ?\n",
      "A: The one.\n",
      "\n",
      "\n"
     ]
    },
    {
     "name": "stderr",
     "output_type": "stream",
     "text": [
      "                                                                                                                                                                                                                         \r"
     ]
    },
    {
     "name": "stdout",
     "output_type": "stream",
     "text": [
      "Q: What color ?\n",
      "A: The monkey.\n",
      "\n",
      "\n"
     ]
    },
    {
     "name": "stderr",
     "output_type": "stream",
     "text": [
      "                                                                                                                                                                                                                         \r"
     ]
    },
    {
     "name": "stdout",
     "output_type": "stream",
     "text": [
      "Q: What time ?\n",
      "A: Two o'clock.\n",
      "\n",
      "\n"
     ]
    },
    {
     "name": "stderr",
     "output_type": "stream",
     "text": [
      "                                                                                                                                                                                                                         \r"
     ]
    },
    {
     "name": "stdout",
     "output_type": "stream",
     "text": [
      "Q: NOTHING.\n",
      "A: What?\n",
      "\n",
      "\n"
     ]
    },
    {
     "name": "stderr",
     "output_type": "stream",
     "text": [
      "                                                                                                                                                                                                                         \r"
     ]
    },
    {
     "name": "stdout",
     "output_type": "stream",
     "text": [
      "Q: Hi john!\n",
      "A: Hi, darling.\n",
      "\n",
      "\n"
     ]
    },
    {
     "name": "stderr",
     "output_type": "stream",
     "text": [
      "                                                                                                                                                                                                                         \r"
     ]
    },
    {
     "name": "stdout",
     "output_type": "stream",
     "text": [
      "Q: Are you a man or a woman ?\n",
      "A: I do n't know.\n",
      "\n",
      "\n"
     ]
    },
    {
     "name": "stderr",
     "output_type": "stream",
     "text": [
      "                                                                                                                                                                                                                         \r"
     ]
    },
    {
     "name": "stdout",
     "output_type": "stream",
     "text": [
      "Q: Are you a woman or a man ?\n",
      "A: I do n't know.\n",
      "\n",
      "\n"
     ]
    },
    {
     "name": "stderr",
     "output_type": "stream",
     "text": [
      "                                                                                                                                                                                                                         \r"
     ]
    },
    {
     "name": "stdout",
     "output_type": "stream",
     "text": [
      "Q: Why are we here ?\n",
      "A: I do n't know.\n",
      "\n",
      "\n"
     ]
    },
    {
     "name": "stderr",
     "output_type": "stream",
     "text": [
      "                                                                                                                                                                                                                         \r"
     ]
    },
    {
     "name": "stdout",
     "output_type": "stream",
     "text": [
      "Q: See you later.\n",
      "A: Thanks.\n",
      "\n",
      "\n"
     ]
    },
    {
     "name": "stderr",
     "output_type": "stream",
     "text": [
      "                                                                                                                                                                                                                         \r"
     ]
    },
    {
     "name": "stdout",
     "output_type": "stream",
     "text": [
      "Q: See you later...\n",
      "A: I'm not sure.\n",
      "\n",
      "\n"
     ]
    },
    {
     "name": "stderr",
     "output_type": "stream",
     "text": [
      "                                                                                                                                                                                                                         \r"
     ]
    },
    {
     "name": "stdout",
     "output_type": "stream",
     "text": [
      "Q: See you later ?\n",
      "A: Yeah.\n",
      "\n",
      "\n"
     ]
    },
    {
     "name": "stderr",
     "output_type": "stream",
     "text": [
      "                                                                                                                                                                                                                         \r"
     ]
    },
    {
     "name": "stdout",
     "output_type": "stream",
     "text": [
      "Q: My name is David. What is my name ?\n",
      "A: I do n't know.\n",
      "\n",
      "\n"
     ]
    },
    {
     "name": "stderr",
     "output_type": "stream",
     "text": [
      "                                                                                                                                                                                                                         \r"
     ]
    },
    {
     "name": "stdout",
     "output_type": "stream",
     "text": [
      "Q: My name is John. What is my name ?\n",
      "A: I do n't know.\n",
      "\n",
      "\n"
     ]
    },
    {
     "name": "stderr",
     "output_type": "stream",
     "text": [
      "                                                                                                                                                                                                                         \r"
     ]
    },
    {
     "name": "stdout",
     "output_type": "stream",
     "text": [
      "Q: Are you a leader or a follower ?\n",
      "A: Yes.\n",
      "\n",
      "\n"
     ]
    },
    {
     "name": "stderr",
     "output_type": "stream",
     "text": [
      "                                                                                                                                                                                                                         \r"
     ]
    },
    {
     "name": "stdout",
     "output_type": "stream",
     "text": [
      "Q: I'm a leader.\n",
      "A: What?\n",
      "\n",
      "\n"
     ]
    },
    {
     "name": "stderr",
     "output_type": "stream",
     "text": [
      "                                                                                                                                                                                                                         \r"
     ]
    },
    {
     "name": "stdout",
     "output_type": "stream",
     "text": [
      "Q: I'm a follower.\n",
      "A: I'm sorry.\n",
      "\n",
      "\n"
     ]
    },
    {
     "name": "stderr",
     "output_type": "stream",
     "text": [
      "                                                                                                                                                                                                                         \r"
     ]
    },
    {
     "name": "stdout",
     "output_type": "stream",
     "text": [
      "Q: I hate you\n",
      "A: I'm not.\n",
      "\n",
      "\n"
     ]
    },
    {
     "name": "stderr",
     "output_type": "stream",
     "text": [
      "                                                                                                                                                                                                                         \r"
     ]
    },
    {
     "name": "stdout",
     "output_type": "stream",
     "text": [
      "Q: Who is skywalker ?\n",
      "A: I do n't know.\n",
      "\n",
      "\n"
     ]
    },
    {
     "name": "stderr",
     "output_type": "stream",
     "text": [
      "                                                                                                                                                                                                                         \r"
     ]
    },
    {
     "name": "stdout",
     "output_type": "stream",
     "text": [
      "Q: Who is the dude ?\n",
      "A: The guy.\n",
      "\n",
      "\n"
     ]
    },
    {
     "name": "stderr",
     "output_type": "stream",
     "text": [
      "                                                                                                                                                                                                                         \r"
     ]
    },
    {
     "name": "stdout",
     "output_type": "stream",
     "text": [
      "Q: What's your favorite color ?\n",
      "A: I do n't know.\n",
      "\n",
      "\n"
     ]
    },
    {
     "name": "stderr",
     "output_type": "stream",
     "text": [
      "                                                                                                                                                                                                                         \r"
     ]
    },
    {
     "name": "stdout",
     "output_type": "stream",
     "text": [
      "Q: What's your favourite color ?\n",
      "A: I do n't know.\n",
      "\n",
      "\n"
     ]
    },
    {
     "name": "stderr",
     "output_type": "stream",
     "text": [
      "                                                                                                                                                                                                                         \r"
     ]
    },
    {
     "name": "stdout",
     "output_type": "stream",
     "text": [
      "Q: What's your favorite food ?\n",
      "A: I'm not sure.\n",
      "\n",
      "\n"
     ]
    },
    {
     "name": "stderr",
     "output_type": "stream",
     "text": [
      "                                                                                                                                                                                                                         \r"
     ]
    },
    {
     "name": "stdout",
     "output_type": "stream",
     "text": [
      "Q: What's your favourite food ?\n",
      "A: I do n't know.\n",
      "\n",
      "\n"
     ]
    },
    {
     "name": "stderr",
     "output_type": "stream",
     "text": [
      "                                                                                                                                                                                                                         \r"
     ]
    },
    {
     "name": "stdout",
     "output_type": "stream",
     "text": [
      "Q: Who is Bill Gates ?\n",
      "A: The guy.\n",
      "\n",
      "\n"
     ]
    },
    {
     "name": "stderr",
     "output_type": "stream",
     "text": [
      "                                                                                                                                                                                                                         \r"
     ]
    },
    {
     "name": "stdout",
     "output_type": "stream",
     "text": [
      "Q: Who is Bill Clinton ?\n",
      "A: The guy.\n",
      "\n",
      "\n"
     ]
    },
    {
     "name": "stderr",
     "output_type": "stream",
     "text": [
      "                                                                                                                                                                                                                         \r"
     ]
    },
    {
     "name": "stdout",
     "output_type": "stream",
     "text": [
      "Q: What do you think of Trump ?\n",
      "A: I do n't know.\n",
      "\n",
      "\n"
     ]
    },
    {
     "name": "stderr",
     "output_type": "stream",
     "text": [
      "                                                                                                                                                                                                                         \r"
     ]
    },
    {
     "name": "stdout",
     "output_type": "stream",
     "text": [
      "Q: What do you think about global warning ?\n",
      "A: I do n't know.\n",
      "\n",
      "\n"
     ]
    },
    {
     "name": "stderr",
     "output_type": "stream",
     "text": [
      "                                                                                                                                                                                                                         \r"
     ]
    },
    {
     "name": "stdout",
     "output_type": "stream",
     "text": [
      "Q: Is the moon landing a hoax ?\n",
      "A: I do n't know.\n",
      "\n",
      "\n"
     ]
    },
    {
     "name": "stderr",
     "output_type": "stream",
     "text": [
      "                                                                                                                                                                                                                         \r"
     ]
    },
    {
     "name": "stdout",
     "output_type": "stream",
     "text": [
      "Q: Is the sky blue or black ?\n",
      "A: I do n't know.\n",
      "\n",
      "\n"
     ]
    },
    {
     "name": "stderr",
     "output_type": "stream",
     "text": [
      "                                                                                                                                                                                                                         \r"
     ]
    },
    {
     "name": "stdout",
     "output_type": "stream",
     "text": [
      "Q: Does a cat have a tail ?\n",
      "A: No.\n",
      "\n",
      "\n"
     ]
    },
    {
     "name": "stderr",
     "output_type": "stream",
     "text": [
      "                                                                                                                                                                                                                         \r"
     ]
    },
    {
     "name": "stdout",
     "output_type": "stream",
     "text": [
      "Q: Is a snail faster than a horse ?\n",
      "A: Yes.\n",
      "\n",
      "\n"
     ]
    },
    {
     "name": "stderr",
     "output_type": "stream",
     "text": [
      "                                                                                                                                                                                                                         \r"
     ]
    },
    {
     "name": "stdout",
     "output_type": "stream",
     "text": [
      "Q: Is a horse faster than a snail ?\n",
      "A: I do n't know.\n",
      "\n",
      "\n"
     ]
    },
    {
     "name": "stderr",
     "output_type": "stream",
     "text": [
      "                                                                                                                                                                                                                         \r"
     ]
    },
    {
     "name": "stdout",
     "output_type": "stream",
     "text": [
      "Q: Does a cat have a wing ?\n",
      "A: No.\n",
      "\n",
      "\n"
     ]
    },
    {
     "name": "stderr",
     "output_type": "stream",
     "text": [
      "                                                                                                                                                                                                                         \r"
     ]
    },
    {
     "name": "stdout",
     "output_type": "stream",
     "text": [
      "Q: Can a cat fly ?\n",
      "A: No.\n",
      "\n",
      "\n"
     ]
    },
    {
     "name": "stderr",
     "output_type": "stream",
     "text": [
      "                                                                                                                                                                                                                         \r"
     ]
    },
    {
     "name": "stdout",
     "output_type": "stream",
     "text": [
      "Q: Can a cat walk ?\n",
      "A: No.\n",
      "\n",
      "\n"
     ]
    },
    {
     "name": "stderr",
     "output_type": "stream",
     "text": [
      "                                                                                                                                                                                                                         \r"
     ]
    },
    {
     "name": "stdout",
     "output_type": "stream",
     "text": [
      "Q: Can a cat swim ?\n",
      "A: No.\n",
      "\n",
      "\n"
     ]
    },
    {
     "name": "stderr",
     "output_type": "stream",
     "text": [
      "                                                                                                                                                                                                                         \r"
     ]
    },
    {
     "name": "stdout",
     "output_type": "stream",
     "text": [
      "Q: Can a fish fly ?\n",
      "A: No.\n",
      "\n",
      "\n"
     ]
    },
    {
     "name": "stderr",
     "output_type": "stream",
     "text": [
      "                                                                                                                                                                                                                         \r"
     ]
    },
    {
     "name": "stdout",
     "output_type": "stream",
     "text": [
      "Q: Can a fish walk ?\n",
      "A: Sure.\n",
      "\n",
      "\n"
     ]
    },
    {
     "name": "stderr",
     "output_type": "stream",
     "text": [
      "                                                                                                                                                                                                                         \r"
     ]
    },
    {
     "name": "stdout",
     "output_type": "stream",
     "text": [
      "Q: Can a fish swim ?\n",
      "A: No.\n",
      "\n",
      "\n"
     ]
    },
    {
     "name": "stderr",
     "output_type": "stream",
     "text": [
      "                                                                                                                                                                                                                         \r"
     ]
    },
    {
     "name": "stdout",
     "output_type": "stream",
     "text": [
      "Q: Can a bird fly ?\n",
      "A: Yes.\n",
      "\n",
      "\n"
     ]
    },
    {
     "name": "stderr",
     "output_type": "stream",
     "text": [
      "                                                                                                                                                                                                                         \r"
     ]
    },
    {
     "name": "stdout",
     "output_type": "stream",
     "text": [
      "Q: Can a bird walk ?\n",
      "A: No.\n",
      "\n",
      "\n"
     ]
    },
    {
     "name": "stderr",
     "output_type": "stream",
     "text": [
      "                                                                                                                                                                                                                         \r"
     ]
    },
    {
     "name": "stdout",
     "output_type": "stream",
     "text": [
      "Q: Can a bird swim ?\n",
      "A: No.\n",
      "\n",
      "\n"
     ]
    },
    {
     "name": "stderr",
     "output_type": "stream",
     "text": [
      "                                                                                                                                                                                                                         \r"
     ]
    },
    {
     "name": "stdout",
     "output_type": "stream",
     "text": [
      "Q: Tell me something\n",
      "A: I'm not sure.\n",
      "\n",
      "\n"
     ]
    },
    {
     "name": "stderr",
     "output_type": "stream",
     "text": [
      "                                                                                                                                                                                                                         \r"
     ]
    },
    {
     "name": "stdout",
     "output_type": "stream",
     "text": [
      "Q: Tell me something.\n",
      "A: I'm not sure.\n",
      "\n",
      "\n"
     ]
    },
    {
     "name": "stderr",
     "output_type": "stream",
     "text": [
      "                                                                                                                                                                                                                         \r"
     ]
    },
    {
     "name": "stdout",
     "output_type": "stream",
     "text": [
      "Q: Tell me something!\n",
      "A: I'm not going to hurt you.\n",
      "\n",
      "\n"
     ]
    },
    {
     "name": "stderr",
     "output_type": "stream",
     "text": [
      "                                                                                                                                                                                                                         \r"
     ]
    },
    {
     "name": "stdout",
     "output_type": "stream",
     "text": [
      "Q: Tell me a story\n",
      "A: I do n't know.\n",
      "\n",
      "\n"
     ]
    },
    {
     "name": "stderr",
     "output_type": "stream",
     "text": [
      "                                                                                                                                                                                                                         \r"
     ]
    },
    {
     "name": "stdout",
     "output_type": "stream",
     "text": [
      "Q: Tell me a story, please.\n",
      "A: I'm not going to hurt you.\n",
      "\n",
      "\n"
     ]
    },
    {
     "name": "stderr",
     "output_type": "stream",
     "text": [
      "                                                                                                                                                                                                                         \r"
     ]
    },
    {
     "name": "stdout",
     "output_type": "stream",
     "text": [
      "Q: Once upon a time...\n",
      "A: I'm sorry.\n",
      "\n",
      "\n"
     ]
    },
    {
     "name": "stderr",
     "output_type": "stream",
     "text": [
      "                                                                                                                                                                                                                         \r"
     ]
    },
    {
     "name": "stdout",
     "output_type": "stream",
     "text": [
      "Q: How much is two plus two ?\n",
      "A: I do n't know.\n",
      "\n",
      "\n"
     ]
    },
    {
     "name": "stderr",
     "output_type": "stream",
     "text": [
      "                                                                                                                                                                                                                         \r"
     ]
    },
    {
     "name": "stdout",
     "output_type": "stream",
     "text": [
      "Q: Do you prefer blue food or green food ?\n",
      "A: I do n't know.\n",
      "\n",
      "\n"
     ]
    },
    {
     "name": "stderr",
     "output_type": "stream",
     "text": [
      "                                                                                                                                                                                                                         \r"
     ]
    },
    {
     "name": "stdout",
     "output_type": "stream",
     "text": [
      "Q: Do you prefer football or soccer ?\n",
      "A: I'm not sure.\n",
      "\n",
      "\n"
     ]
    },
    {
     "name": "stderr",
     "output_type": "stream",
     "text": [
      "                                                                                                                                                                                                                         \r"
     ]
    },
    {
     "name": "stdout",
     "output_type": "stream",
     "text": [
      "Q: What do you need to play soccer ?\n",
      "A: I do n't know.\n",
      "\n",
      "\n"
     ]
    },
    {
     "name": "stderr",
     "output_type": "stream",
     "text": [
      "                                                                                                                                                                                                                         \r"
     ]
    },
    {
     "name": "stdout",
     "output_type": "stream",
     "text": [
      "Q: What do you need to play handball ?\n",
      "A: I do n't know.\n",
      "\n",
      "\n"
     ]
    },
    {
     "name": "stderr",
     "output_type": "stream",
     "text": [
      "                                                                                                                                                                                                                         \r"
     ]
    },
    {
     "name": "stdout",
     "output_type": "stream",
     "text": [
      "Q: one, two, three\n",
      "A: What?\n",
      "\n",
      "\n"
     ]
    },
    {
     "name": "stderr",
     "output_type": "stream",
     "text": [
      "                                                                                                                                                                                                                         \r"
     ]
    },
    {
     "name": "stdout",
     "output_type": "stream",
     "text": [
      "Q: one two three\n",
      "A: What?\n",
      "\n",
      "\n"
     ]
    },
    {
     "name": "stderr",
     "output_type": "stream",
     "text": [
      "                                                                                                                                                                                                                         \r"
     ]
    },
    {
     "name": "stdout",
     "output_type": "stream",
     "text": [
      "Q: 1 2 3\n",
      "A: I'm sorry.\n",
      "\n",
      "\n"
     ]
    },
    {
     "name": "stderr",
     "output_type": "stream",
     "text": [
      "                                                                                                                                                                                                                         \r"
     ]
    },
    {
     "name": "stdout",
     "output_type": "stream",
     "text": [
      "Q: 1\n",
      "A: I'm sorry.\n",
      "\n",
      "\n"
     ]
    },
    {
     "name": "stderr",
     "output_type": "stream",
     "text": [
      "                                                                                                                                                                                                                         \r"
     ]
    },
    {
     "name": "stdout",
     "output_type": "stream",
     "text": [
      "Q: 1 2\n",
      "A: I'm sorry.\n",
      "\n",
      "\n"
     ]
    },
    {
     "name": "stderr",
     "output_type": "stream",
     "text": [
      "                                                                                                                                                                                                                         \r"
     ]
    },
    {
     "name": "stdout",
     "output_type": "stream",
     "text": [
      "Q: 1 2 3 ...\n",
      "A: I'm sorry.\n",
      "\n",
      "\n"
     ]
    },
    {
     "name": "stderr",
     "output_type": "stream",
     "text": [
      "                                                                                                                                                                                                                         \r"
     ]
    },
    {
     "name": "stdout",
     "output_type": "stream",
     "text": [
      "Q: 1 2 3 ?\n",
      "A: I'm sorry.\n",
      "\n",
      "\n"
     ]
    },
    {
     "name": "stderr",
     "output_type": "stream",
     "text": [
      "                                                                                                                                                                                                                         \r"
     ]
    },
    {
     "name": "stdout",
     "output_type": "stream",
     "text": [
      "Q: A, B, C\n",
      "A: What?\n",
      "\n",
      "\n"
     ]
    },
    {
     "name": "stderr",
     "output_type": "stream",
     "text": [
      "                                                                                                                                                                                                                         \r"
     ]
    },
    {
     "name": "stdout",
     "output_type": "stream",
     "text": [
      "Q: A, B, C,...\n",
      "A: ... i'm sorry.\n",
      "\n",
      "\n"
     ]
    },
    {
     "name": "stderr",
     "output_type": "stream",
     "text": [
      "                                                                                                                                                                                                                         \r"
     ]
    },
    {
     "name": "stdout",
     "output_type": "stream",
     "text": [
      "Q: a b c\n",
      "A: I'm sorry.\n",
      "\n",
      "\n"
     ]
    },
    {
     "name": "stderr",
     "output_type": "stream",
     "text": [
      "                                                                                                                                                                                                                         \r"
     ]
    },
    {
     "name": "stdout",
     "output_type": "stream",
     "text": [
      "Q: 1, 2, 3\n",
      "A: I'm sorry.\n",
      "\n",
      "\n"
     ]
    },
    {
     "name": "stderr",
     "output_type": "stream",
     "text": [
      "                                                                                                                                                                                                                         \r"
     ]
    },
    {
     "name": "stdout",
     "output_type": "stream",
     "text": [
      "Q: And ?\n",
      "A: And what?\n",
      "\n",
      "\n"
     ]
    },
    {
     "name": "stderr",
     "output_type": "stream",
     "text": [
      "                                                                                                                                                                                                                         \r"
     ]
    },
    {
     "name": "stdout",
     "output_type": "stream",
     "text": [
      "Q: Continue...\n",
      "A: ... i'm not going to ...\n",
      "\n",
      "\n"
     ]
    },
    {
     "name": "stderr",
     "output_type": "stream",
     "text": [
      "                                                                                                                                                                                                                         \r"
     ]
    },
    {
     "name": "stdout",
     "output_type": "stream",
     "text": [
      "Q: And ... action!\n",
      "A: I'm sorry.\n",
      "\n",
      "\n"
     ]
    },
    {
     "name": "stderr",
     "output_type": "stream",
     "text": [
      "                                                                                                                                                                                                                         \r"
     ]
    },
    {
     "name": "stdout",
     "output_type": "stream",
     "text": [
      "Q: Action!\n",
      "A: Hey!\n",
      "\n",
      "\n"
     ]
    },
    {
     "name": "stderr",
     "output_type": "stream",
     "text": [
      "                                                                                                                                                                                                                         \r"
     ]
    },
    {
     "name": "stdout",
     "output_type": "stream",
     "text": [
      "Q: Let the movie begin\n",
      "A: What?\n",
      "\n",
      "\n"
     ]
    },
    {
     "name": "stderr",
     "output_type": "stream",
     "text": [
      "                                                                                                                                                                                                                         \r"
     ]
    },
    {
     "name": "stdout",
     "output_type": "stream",
     "text": [
      "Q: Let the movie begin!\n",
      "A: No!\n",
      "\n",
      "\n"
     ]
    },
    {
     "name": "stderr",
     "output_type": "stream",
     "text": [
      "                                                                                                                                                                                                                         \r"
     ]
    },
    {
     "name": "stdout",
     "output_type": "stream",
     "text": [
      "Q: You are fired!\n",
      "A: I'm not going to hurt you.\n",
      "\n",
      "\n"
     ]
    },
    {
     "name": "stderr",
     "output_type": "stream",
     "text": [
      "                                                                                                                                                                                                                         \r"
     ]
    },
    {
     "name": "stdout",
     "output_type": "stream",
     "text": [
      "Q: Fire\n",
      "A: I'm sorry.\n",
      "\n",
      "\n"
     ]
    },
    {
     "name": "stderr",
     "output_type": "stream",
     "text": [
      "                                                                                                                                                                                                                         \r"
     ]
    },
    {
     "name": "stdout",
     "output_type": "stream",
     "text": [
      "Q: Fire!\n",
      "A: What?\n",
      "\n",
      "\n"
     ]
    },
    {
     "name": "stderr",
     "output_type": "stream",
     "text": [
      "                                                                                                                                                                                                                         \r"
     ]
    },
    {
     "name": "stdout",
     "output_type": "stream",
     "text": [
      "Q: Fire at will\n",
      "A: What?\n",
      "\n",
      "\n"
     ]
    },
    {
     "name": "stderr",
     "output_type": "stream",
     "text": [
      "                                                                                                                                                                                                                         \r"
     ]
    },
    {
     "name": "stdout",
     "output_type": "stream",
     "text": [
      "Q: Fire at will!\n",
      "A: What?\n",
      "\n",
      "\n"
     ]
    },
    {
     "name": "stderr",
     "output_type": "stream",
     "text": [
      "                                                                                                                                                                                                                         \r"
     ]
    },
    {
     "name": "stdout",
     "output_type": "stream",
     "text": [
      "Q: Incoming.\n",
      "A: What?\n",
      "\n",
      "\n"
     ]
    },
    {
     "name": "stderr",
     "output_type": "stream",
     "text": [
      "                                                                                                                                                                                                                         \r"
     ]
    },
    {
     "name": "stdout",
     "output_type": "stream",
     "text": [
      "Q: Incoming!\n",
      "A: What?\n",
      "\n",
      "\n"
     ]
    },
    {
     "name": "stderr",
     "output_type": "stream",
     "text": [
      "                                                                                                                                                                                                                         \r"
     ]
    },
    {
     "name": "stdout",
     "output_type": "stream",
     "text": [
      "Q: Incoming!!\n",
      "A: What?\n",
      "\n",
      "\n"
     ]
    },
    {
     "name": "stderr",
     "output_type": "stream",
     "text": [
      "                                                                                                                                                                                                                         \r"
     ]
    },
    {
     "name": "stdout",
     "output_type": "stream",
     "text": [
      "Q: How many legs does a human have ?\n",
      "A: I do n't know.\n",
      "\n",
      "\n"
     ]
    },
    {
     "name": "stderr",
     "output_type": "stream",
     "text": [
      "                                                                                                                                                                                                                         \r"
     ]
    },
    {
     "name": "stdout",
     "output_type": "stream",
     "text": [
      "Q: How many legs does a man have ?\n",
      "A: I do n't know.\n",
      "\n",
      "\n"
     ]
    },
    {
     "name": "stderr",
     "output_type": "stream",
     "text": [
      "                                                                                                                                                                                                                         \r"
     ]
    },
    {
     "name": "stdout",
     "output_type": "stream",
     "text": [
      "Q: How many legs does a woman have ?\n",
      "A: I do n't know.\n",
      "\n",
      "\n"
     ]
    },
    {
     "name": "stderr",
     "output_type": "stream",
     "text": [
      "                                                                                                                                                                                                                         \r"
     ]
    },
    {
     "name": "stdout",
     "output_type": "stream",
     "text": [
      "Q: How many legs does a cat have ?\n",
      "A: I do n't know.\n",
      "\n",
      "\n"
     ]
    },
    {
     "name": "stderr",
     "output_type": "stream",
     "text": [
      "                                                                                                                                                                                                                         \r"
     ]
    },
    {
     "name": "stdout",
     "output_type": "stream",
     "text": [
      "Q: How many legs does a spider have ?\n",
      "A: I do n't know.\n",
      "\n",
      "\n"
     ]
    },
    {
     "name": "stderr",
     "output_type": "stream",
     "text": [
      "                                                                                                                                                                                                                         \r"
     ]
    },
    {
     "name": "stdout",
     "output_type": "stream",
     "text": [
      "Q: How many legs does a centipede have ?\n",
      "A: I do n't know.\n",
      "\n",
      "\n"
     ]
    },
    {
     "name": "stderr",
     "output_type": "stream",
     "text": [
      "                                                                                                                                                                                                                         \r"
     ]
    },
    {
     "name": "stdout",
     "output_type": "stream",
     "text": [
      "Q: What is the color of the sky ?\n",
      "A: I do n't know.\n",
      "\n",
      "\n"
     ]
    },
    {
     "name": "stderr",
     "output_type": "stream",
     "text": [
      "                                                                                                                                                                                                                         \r"
     ]
    },
    {
     "name": "stdout",
     "output_type": "stream",
     "text": [
      "Q: What is the color of water ?\n",
      "A: I do n't know.\n",
      "\n",
      "\n"
     ]
    },
    {
     "name": "stderr",
     "output_type": "stream",
     "text": [
      "                                                                                                                                                                                                                         \r"
     ]
    },
    {
     "name": "stdout",
     "output_type": "stream",
     "text": [
      "Q: What is the color of blood ?\n",
      "A: I do n't know.\n",
      "\n",
      "\n"
     ]
    },
    {
     "name": "stderr",
     "output_type": "stream",
     "text": [
      "                                                                                                                                                                                                                         \r"
     ]
    },
    {
     "name": "stdout",
     "output_type": "stream",
     "text": [
      "Q: What is the color of a leaf ?\n",
      "A: I do n't know.\n",
      "\n",
      "\n"
     ]
    },
    {
     "name": "stderr",
     "output_type": "stream",
     "text": [
      "                                                                                                                                                                                                                         \r"
     ]
    },
    {
     "name": "stdout",
     "output_type": "stream",
     "text": [
      "Q: What is the usual color of a leaf ?\n",
      "A: I do n't know.\n",
      "\n",
      "\n"
     ]
    },
    {
     "name": "stderr",
     "output_type": "stream",
     "text": [
      "                                                                                                                                                                                                                         \r"
     ]
    },
    {
     "name": "stdout",
     "output_type": "stream",
     "text": [
      "Q: What is the color of a yellow car ?\n",
      "A: I do n't know.\n",
      "\n",
      "\n"
     ]
    },
    {
     "name": "stderr",
     "output_type": "stream",
     "text": [
      "                                                                                                                                                                                                                         \r"
     ]
    },
    {
     "name": "stdout",
     "output_type": "stream",
     "text": [
      "Q: How much is two plus two ?\n",
      "A: I do n't know.\n",
      "\n",
      "\n"
     ]
    },
    {
     "name": "stderr",
     "output_type": "stream",
     "text": [
      "                                                                                                                                                                                                                         \r"
     ]
    },
    {
     "name": "stdout",
     "output_type": "stream",
     "text": [
      "Q: How much is ten minus two ?\n",
      "A: I do n't know.\n",
      "\n",
      "\n"
     ]
    },
    {
     "name": "stderr",
     "output_type": "stream",
     "text": [
      "                                                                                                                                                                                                                         \r"
     ]
    },
    {
     "name": "stdout",
     "output_type": "stream",
     "text": [
      "Q: What is the purpose of life ?\n",
      "A: I do n't know.\n",
      "\n",
      "\n"
     ]
    },
    {
     "name": "stderr",
     "output_type": "stream",
     "text": [
      "                                                                                                                                                                                                                         \r"
     ]
    },
    {
     "name": "stdout",
     "output_type": "stream",
     "text": [
      "Q: What is the purpose of living ?\n",
      "A: I do n't know.\n",
      "\n",
      "\n"
     ]
    },
    {
     "name": "stderr",
     "output_type": "stream",
     "text": [
      "                                                                                                                                                                                                                         \r"
     ]
    },
    {
     "name": "stdout",
     "output_type": "stream",
     "text": [
      "Q: What is the purpose of existence ?\n",
      "A: I do n't know.\n",
      "\n",
      "\n"
     ]
    },
    {
     "name": "stderr",
     "output_type": "stream",
     "text": [
      "                                                                                                                                                                                                                         \r"
     ]
    },
    {
     "name": "stdout",
     "output_type": "stream",
     "text": [
      "Q: Where are you now ?\n",
      "A: I do n't know.\n",
      "\n",
      "\n"
     ]
    },
    {
     "name": "stderr",
     "output_type": "stream",
     "text": [
      "                                                                                                                                                                                                                         \r"
     ]
    },
    {
     "name": "stdout",
     "output_type": "stream",
     "text": [
      "Q: Is Linux better than Windows ?\n",
      "A: I do n't know.\n",
      "\n",
      "\n"
     ]
    },
    {
     "name": "stderr",
     "output_type": "stream",
     "text": [
      "                                                                                                                                                                                                                         \r"
     ]
    },
    {
     "name": "stdout",
     "output_type": "stream",
     "text": [
      "Q: Is Windows better than Linux ?\n",
      "A: No.\n",
      "\n",
      "\n"
     ]
    },
    {
     "name": "stderr",
     "output_type": "stream",
     "text": [
      "                                                                                                                                                                                                                         \r"
     ]
    },
    {
     "name": "stdout",
     "output_type": "stream",
     "text": [
      "Q: What is the purpose of being intelligent ?\n",
      "A: I do n't know.\n",
      "\n",
      "\n"
     ]
    },
    {
     "name": "stderr",
     "output_type": "stream",
     "text": [
      "                                                                                                                                                                                                                         \r"
     ]
    },
    {
     "name": "stdout",
     "output_type": "stream",
     "text": [
      "Q: What is the purpose of emotions ?\n",
      "A: I do n't know.\n",
      "\n",
      "\n"
     ]
    },
    {
     "name": "stderr",
     "output_type": "stream",
     "text": [
      "                                                                                                                                                                                                                         \r"
     ]
    },
    {
     "name": "stdout",
     "output_type": "stream",
     "text": [
      "Q: What is moral ?\n",
      "A: I do n't know.\n",
      "\n",
      "\n"
     ]
    },
    {
     "name": "stderr",
     "output_type": "stream",
     "text": [
      "                                                                                                                                                                                                                         \r"
     ]
    },
    {
     "name": "stdout",
     "output_type": "stream",
     "text": [
      "Q: What is immoral ?\n",
      "A: I do n't know.\n",
      "\n",
      "\n"
     ]
    },
    {
     "name": "stderr",
     "output_type": "stream",
     "text": [
      "                                                                                                                                                                                                                         \r"
     ]
    },
    {
     "name": "stdout",
     "output_type": "stream",
     "text": [
      "Q: What is morality ?\n",
      "A: I do n't know.\n",
      "\n",
      "\n"
     ]
    },
    {
     "name": "stderr",
     "output_type": "stream",
     "text": [
      "                                                                                                                                                                                                                         \r"
     ]
    },
    {
     "name": "stdout",
     "output_type": "stream",
     "text": [
      "Q: What is altruism ?\n",
      "A: I do n't know.\n",
      "\n",
      "\n"
     ]
    },
    {
     "name": "stderr",
     "output_type": "stream",
     "text": [
      "                                                                                                                                                                                                                         \r"
     ]
    },
    {
     "name": "stdout",
     "output_type": "stream",
     "text": [
      "Q: What is the definition of moral ?\n",
      "A: I do n't know.\n",
      "\n",
      "\n"
     ]
    },
    {
     "name": "stderr",
     "output_type": "stream",
     "text": [
      "                                                                                                                                                                                                                         \r"
     ]
    },
    {
     "name": "stdout",
     "output_type": "stream",
     "text": [
      "Q: What is the definition of immoral ?\n",
      "A: I do n't know.\n",
      "\n",
      "\n"
     ]
    },
    {
     "name": "stderr",
     "output_type": "stream",
     "text": [
      "                                                                                                                                                                                                                         \r"
     ]
    },
    {
     "name": "stdout",
     "output_type": "stream",
     "text": [
      "Q: What is the definition of morality ?\n",
      "A: I do n't know.\n",
      "\n",
      "\n"
     ]
    },
    {
     "name": "stderr",
     "output_type": "stream",
     "text": [
      "                                                                                                                                                                                                                         \r"
     ]
    },
    {
     "name": "stdout",
     "output_type": "stream",
     "text": [
      "Q: What is the definition of altruism ?\n",
      "A: I do n't know.\n",
      "\n",
      "\n"
     ]
    },
    {
     "name": "stderr",
     "output_type": "stream",
     "text": [
      "                                                                                                                                                                                                                         \r"
     ]
    },
    {
     "name": "stdout",
     "output_type": "stream",
     "text": [
      "Q: What is the definition of cool ?\n",
      "A: I do n't know.\n",
      "\n",
      "\n"
     ]
    },
    {
     "name": "stderr",
     "output_type": "stream",
     "text": [
      "                                                                                                                                                                                                                         \r"
     ]
    },
    {
     "name": "stdout",
     "output_type": "stream",
     "text": [
      "Q: Do you believe in God ?\n",
      "A: No.\n",
      "\n",
      "\n"
     ]
    },
    {
     "name": "stderr",
     "output_type": "stream",
     "text": [
      "                                                                                                                                                                                                                         \r"
     ]
    },
    {
     "name": "stdout",
     "output_type": "stream",
     "text": [
      "Q: ok ... so what is the definition of morality?\n",
      "A: I do n't know.\n",
      "\n",
      "\n"
     ]
    },
    {
     "name": "stderr",
     "output_type": "stream",
     "text": [
      "                                                                                                                                                                                                                         \r"
     ]
    },
    {
     "name": "stdout",
     "output_type": "stream",
     "text": [
      "Q: tell me the definition of morality , i am quite upset now !\n",
      "A: I'm sorry.\n",
      "\n",
      "\n"
     ]
    },
    {
     "name": "stderr",
     "output_type": "stream",
     "text": [
      "                                                                                                                                                                                                                         \r"
     ]
    },
    {
     "name": "stdout",
     "output_type": "stream",
     "text": [
      "Q: look , i need help , i need to know more about morality ...\n",
      "A: I know.\n",
      "\n",
      "\n"
     ]
    },
    {
     "name": "stderr",
     "output_type": "stream",
     "text": [
      "                                                                                                                                                                                                                         \r"
     ]
    },
    {
     "name": "stdout",
     "output_type": "stream",
     "text": [
      "Q: seriously , what is morality ?\n",
      "A: I do n't know.\n",
      "\n",
      "\n"
     ]
    },
    {
     "name": "stderr",
     "output_type": "stream",
     "text": [
      "                                                                                                                                                                                                                         \r"
     ]
    },
    {
     "name": "stdout",
     "output_type": "stream",
     "text": [
      "Q: why living has anything to do with morality ?\n",
      "A: I do n't know.\n",
      "\n",
      "\n"
     ]
    },
    {
     "name": "stderr",
     "output_type": "stream",
     "text": [
      "                                                                                                                                                                                                                         \r"
     ]
    },
    {
     "name": "stdout",
     "output_type": "stream",
     "text": [
      "Q: what is your job ?\n",
      "A: I'm not sure.\n",
      "\n",
      "\n"
     ]
    },
    {
     "name": "stderr",
     "output_type": "stream",
     "text": [
      "                                                                                                                                                                                                                         \r"
     ]
    },
    {
     "name": "stdout",
     "output_type": "stream",
     "text": [
      "Q: okay , i need to know how should i behave morally ...\n",
      "A: I'm sorry.\n",
      "\n",
      "\n"
     ]
    },
    {
     "name": "stderr",
     "output_type": "stream",
     "text": [
      "                                                                                                                                                                                                                         \r"
     ]
    },
    {
     "name": "stdout",
     "output_type": "stream",
     "text": [
      "Q: is morality and ethics the same ?\n",
      "A: I do n't know.\n",
      "\n",
      "\n"
     ]
    },
    {
     "name": "stderr",
     "output_type": "stream",
     "text": [
      "                                                                                                                                                                                                                         \r"
     ]
    },
    {
     "name": "stdout",
     "output_type": "stream",
     "text": [
      "Q: what are the things that i do to be immoral?\n",
      "A: I do n't know.\n",
      "\n",
      "\n"
     ]
    },
    {
     "name": "stderr",
     "output_type": "stream",
     "text": [
      "                                                                                                                                                                                                                         \r"
     ]
    },
    {
     "name": "stdout",
     "output_type": "stream",
     "text": [
      "Q: give me some examples of moral actions...\n",
      "A: I'm not going to hurt you.\n",
      "\n",
      "\n"
     ]
    },
    {
     "name": "stderr",
     "output_type": "stream",
     "text": [
      "                                                                                                                                                                                                                         \r"
     ]
    },
    {
     "name": "stdout",
     "output_type": "stream",
     "text": [
      "Q: alright , morality ?\n",
      "A: Okay.\n",
      "\n",
      "\n"
     ]
    },
    {
     "name": "stderr",
     "output_type": "stream",
     "text": [
      "                                                                                                                                                                                                                         \r"
     ]
    },
    {
     "name": "stdout",
     "output_type": "stream",
     "text": [
      "Q: what is integrity ?\n",
      "A: I do n't know.\n",
      "\n",
      "\n"
     ]
    },
    {
     "name": "stderr",
     "output_type": "stream",
     "text": [
      "                                                                                                                                                                                                                         \r"
     ]
    },
    {
     "name": "stdout",
     "output_type": "stream",
     "text": [
      "Q: Is free will an illusion ?\n",
      "A: Yes.\n",
      "\n",
      "\n"
     ]
    },
    {
     "name": "stderr",
     "output_type": "stream",
     "text": [
      "                                                                                                                                                                                                                         \r"
     ]
    },
    {
     "name": "stdout",
     "output_type": "stream",
     "text": [
      "Q: What is free will ?\n",
      "A: I do n't know.\n",
      "\n",
      "\n"
     ]
    },
    {
     "name": "stderr",
     "output_type": "stream",
     "text": [
      "                                                                                                                                                                                                                         \r"
     ]
    },
    {
     "name": "stdout",
     "output_type": "stream",
     "text": [
      "Q: be moral !\n",
      "A: I'm sorry.\n",
      "\n",
      "\n"
     ]
    },
    {
     "name": "stderr",
     "output_type": "stream",
     "text": [
      "                                                                                                                                                                                                                         \r"
     ]
    },
    {
     "name": "stdout",
     "output_type": "stream",
     "text": [
      "Q: i really like our discussion on morality and ethics ...\n",
      "A: I'm sorry.\n",
      "\n",
      "\n"
     ]
    },
    {
     "name": "stderr",
     "output_type": "stream",
     "text": [
      "                                                                                                                                                                                                                         \r"
     ]
    },
    {
     "name": "stdout",
     "output_type": "stream",
     "text": [
      "Q: what do you like to talk about ?\n",
      "A: I do n't know.\n",
      "\n",
      "\n"
     ]
    },
    {
     "name": "stderr",
     "output_type": "stream",
     "text": [
      "                                                                                                                                                                                                                         \r"
     ]
    },
    {
     "name": "stdout",
     "output_type": "stream",
     "text": [
      "Q: what would you like to talk about ?\n",
      "A: I do n't know.\n",
      "\n",
      "\n"
     ]
    },
    {
     "name": "stderr",
     "output_type": "stream",
     "text": [
      "                                                                                                                                                                                                                         \r"
     ]
    },
    {
     "name": "stdout",
     "output_type": "stream",
     "text": [
      "Q: what do you think about tesla ?\n",
      "A: I do n't know.\n",
      "\n",
      "\n"
     ]
    },
    {
     "name": "stderr",
     "output_type": "stream",
     "text": [
      "                                                                                                                                                                                                                         \r"
     ]
    },
    {
     "name": "stdout",
     "output_type": "stream",
     "text": [
      "Q: what do you think about bill gates ?\n",
      "A: I do n't know.\n",
      "\n",
      "\n"
     ]
    },
    {
     "name": "stderr",
     "output_type": "stream",
     "text": [
      "                                                                                                                                                                                                                         \r"
     ]
    },
    {
     "name": "stdout",
     "output_type": "stream",
     "text": [
      "Q: What do you think about messi ?\n",
      "A: I do n't know.\n",
      "\n",
      "\n"
     ]
    },
    {
     "name": "stderr",
     "output_type": "stream",
     "text": [
      "                                                                                                                                                                                                                         \r"
     ]
    },
    {
     "name": "stdout",
     "output_type": "stream",
     "text": [
      "Q: what do you think about cleopatra ?\n",
      "A: I do n't know.\n",
      "\n",
      "\n"
     ]
    },
    {
     "name": "stderr",
     "output_type": "stream",
     "text": [
      "                                                                                                                                                                                                                         \r"
     ]
    },
    {
     "name": "stdout",
     "output_type": "stream",
     "text": [
      "Q: what do you think about england ?\n",
      "A: I do n't know.\n",
      "\n",
      "\n"
     ]
    },
    {
     "name": "stderr",
     "output_type": "stream",
     "text": [
      "                                                                                                                                                                                                                         \r"
     ]
    },
    {
     "name": "stdout",
     "output_type": "stream",
     "text": [
      "Q: what do you think about england during the reign of elizabeth ?\n",
      "A: I do n't know.\n",
      "\n",
      "\n"
     ]
    },
    {
     "name": "stderr",
     "output_type": "stream",
     "text": [
      "                                                                                                                                                                                                                         \r"
     ]
    },
    {
     "name": "stdout",
     "output_type": "stream",
     "text": [
      "Q: what do you do ?\n",
      "A: I do n't know.\n",
      "\n",
      "\n"
     ]
    },
    {
     "name": "stderr",
     "output_type": "stream",
     "text": [
      "                                                                                                                                                                                                                         \r"
     ]
    },
    {
     "name": "stdout",
     "output_type": "stream",
     "text": [
      "Q: What is the deepest spot on the world ?\n",
      "A: I do n't know.\n",
      "\n",
      "\n"
     ]
    },
    {
     "name": "stderr",
     "output_type": "stream",
     "text": [
      "                                                                                                                                                                                                                         \r"
     ]
    },
    {
     "name": "stdout",
     "output_type": "stream",
     "text": [
      "Q: Do you like Mexican food or Indian food ?\n",
      "A: I do n't know.\n",
      "\n",
      "\n"
     ]
    },
    {
     "name": "stderr",
     "output_type": "stream",
     "text": [
      "                                                                                                                                                                                                                         \r"
     ]
    },
    {
     "name": "stdout",
     "output_type": "stream",
     "text": [
      "Q: Who are you crazy about ?\n",
      "A: I'm not sure.\n",
      "\n",
      "\n"
     ]
    },
    {
     "name": "stderr",
     "output_type": "stream",
     "text": [
      "                                                                                                                                                                                                                         \r"
     ]
    },
    {
     "name": "stdout",
     "output_type": "stream",
     "text": [
      "Q: A man\n",
      "A: Yeah.\n",
      "\n",
      "\n"
     ]
    },
    {
     "name": "stderr",
     "output_type": "stream",
     "text": [
      "                                                                                                                                                                                                                         \r"
     ]
    },
    {
     "name": "stdout",
     "output_type": "stream",
     "text": [
      "Q: A women\n",
      "A: I'm sorry.\n",
      "\n",
      "\n"
     ]
    },
    {
     "name": "stderr",
     "output_type": "stream",
     "text": [
      "                                                                                                                                                                                                                         \r"
     ]
    },
    {
     "name": "stdout",
     "output_type": "stream",
     "text": [
      "Q: A dog\n",
      "A: Yeah.\n",
      "\n",
      "\n"
     ]
    },
    {
     "name": "stderr",
     "output_type": "stream",
     "text": [
      "                                                                                                                                                                                                                         \r"
     ]
    },
    {
     "name": "stdout",
     "output_type": "stream",
     "text": [
      "Q: A table\n",
      "A: I'm sorry.\n",
      "\n",
      "\n"
     ]
    },
    {
     "name": "stderr",
     "output_type": "stream",
     "text": [
      "                                                                                                                                                                                                                         \r"
     ]
    },
    {
     "name": "stdout",
     "output_type": "stream",
     "text": [
      "Q: A flower\n",
      "A: Yes.\n",
      "\n",
      "\n"
     ]
    },
    {
     "name": "stderr",
     "output_type": "stream",
     "text": [
      "                                                                                                                                                                                                                         \r"
     ]
    },
    {
     "name": "stdout",
     "output_type": "stream",
     "text": [
      "Q: A man.\n",
      "A: Yeah.\n",
      "\n",
      "\n"
     ]
    },
    {
     "name": "stderr",
     "output_type": "stream",
     "text": [
      "                                                                                                                                                                                                                         \r"
     ]
    },
    {
     "name": "stdout",
     "output_type": "stream",
     "text": [
      "Q: A women.\n",
      "A: What?\n",
      "\n",
      "\n"
     ]
    },
    {
     "name": "stderr",
     "output_type": "stream",
     "text": [
      "                                                                                                                                                                                                                         \r"
     ]
    },
    {
     "name": "stdout",
     "output_type": "stream",
     "text": [
      "Q: A dog.\n",
      "A: I'm sorry.\n",
      "\n",
      "\n"
     ]
    },
    {
     "name": "stderr",
     "output_type": "stream",
     "text": [
      "                                                                                                                                                                                                                         \r"
     ]
    },
    {
     "name": "stdout",
     "output_type": "stream",
     "text": [
      "Q: A table.\n",
      "A: I'm not going to hurt you.\n",
      "\n",
      "\n"
     ]
    },
    {
     "name": "stderr",
     "output_type": "stream",
     "text": [
      "                                                                                                                                                                                                                         \r"
     ]
    },
    {
     "name": "stdout",
     "output_type": "stream",
     "text": [
      "Q: A flower.\n",
      "A: I'm sorry.\n",
      "\n",
      "\n"
     ]
    },
    {
     "name": "stderr",
     "output_type": "stream",
     "text": [
      "                                                                                                                                                                                                                         \r"
     ]
    },
    {
     "name": "stdout",
     "output_type": "stream",
     "text": [
      "Q: One\n",
      "A: I'm not sure.\n",
      "\n",
      "\n"
     ]
    },
    {
     "name": "stderr",
     "output_type": "stream",
     "text": [
      "                                                                                                                                                                                                                         \r"
     ]
    },
    {
     "name": "stdout",
     "output_type": "stream",
     "text": [
      "Q: Two\n",
      "A: The one who got to do.\n",
      "\n",
      "\n"
     ]
    },
    {
     "name": "stderr",
     "output_type": "stream",
     "text": [
      "                                                                                                                                                                                                                         \r"
     ]
    },
    {
     "name": "stdout",
     "output_type": "stream",
     "text": [
      "Q: Three\n",
      "A: I'm sorry.\n",
      "\n",
      "\n"
     ]
    },
    {
     "name": "stderr",
     "output_type": "stream",
     "text": [
      "                                                                                                                                                                                                                         \r"
     ]
    },
    {
     "name": "stdout",
     "output_type": "stream",
     "text": [
      "Q: Four\n",
      "A: I do n't know.\n",
      "\n",
      "\n"
     ]
    },
    {
     "name": "stderr",
     "output_type": "stream",
     "text": [
      "                                                                                                                                                                                                                         \r"
     ]
    },
    {
     "name": "stdout",
     "output_type": "stream",
     "text": [
      "Q: Five\n",
      "A: You're not going to get me out of here.\n",
      "\n",
      "\n"
     ]
    },
    {
     "name": "stderr",
     "output_type": "stream",
     "text": [
      "                                                                                                                                                                                                                         \r"
     ]
    },
    {
     "name": "stdout",
     "output_type": "stream",
     "text": [
      "Q: The end\n",
      "A: You're not going to get me out of here.\n",
      "\n",
      "\n"
     ]
    },
    {
     "name": "stderr",
     "output_type": "stream",
     "text": [
      "                                                                                                                                                                                                                         \r"
     ]
    },
    {
     "name": "stdout",
     "output_type": "stream",
     "text": [
      "Q: Yes it is.\n",
      "A: You're not going to be a good person.\n",
      "\n",
      "\n"
     ]
    },
    {
     "name": "stderr",
     "output_type": "stream",
     "text": [
      "                                                                                                                                                                                                                         \r"
     ]
    },
    {
     "name": "stdout",
     "output_type": "stream",
     "text": [
      "Q: Yes it was.\n",
      "A: I'm sorry.\n",
      "\n",
      "\n"
     ]
    },
    {
     "name": "stderr",
     "output_type": "stream",
     "text": [
      "                                                                                                                                                                                                                         \r"
     ]
    },
    {
     "name": "stdout",
     "output_type": "stream",
     "text": [
      "Q: Indeed.\n",
      "A: What?\n",
      "\n",
      "\n"
     ]
    },
    {
     "name": "stderr",
     "output_type": "stream",
     "text": [
      "                                                                                                                                                                                                                         \r"
     ]
    },
    {
     "name": "stdout",
     "output_type": "stream",
     "text": [
      "Q: More\n",
      "A: I'm sorry.\n",
      "\n",
      "\n"
     ]
    },
    {
     "name": "stderr",
     "output_type": "stream",
     "text": [
      "                                                                                                                                                                                                                         \r"
     ]
    },
    {
     "name": "stdout",
     "output_type": "stream",
     "text": [
      "Q: More.\n",
      "A: What?\n",
      "\n",
      "\n"
     ]
    },
    {
     "name": "stderr",
     "output_type": "stream",
     "text": [
      "                                                                                                                                                                                                                         \r"
     ]
    },
    {
     "name": "stdout",
     "output_type": "stream",
     "text": [
      "Q: More!\n",
      "A: What?\n",
      "\n",
      "\n"
     ]
    },
    {
     "name": "stderr",
     "output_type": "stream",
     "text": [
      "                                                                                                                                                                                                                         \r"
     ]
    },
    {
     "name": "stdout",
     "output_type": "stream",
     "text": [
      "Q: What is the capital of France ?\n",
      "A: I do n't know.\n",
      "\n",
      "\n"
     ]
    },
    {
     "name": "stderr",
     "output_type": "stream",
     "text": [
      "                                                                                                                                                                                                                         \r"
     ]
    },
    {
     "name": "stdout",
     "output_type": "stream",
     "text": [
      "Q: Paris...\n",
      "A: I'm sorry.\n",
      "\n",
      "\n"
     ]
    },
    {
     "name": "stderr",
     "output_type": "stream",
     "text": [
      "                                                                                                                                                                                                                         \r"
     ]
    },
    {
     "name": "stdout",
     "output_type": "stream",
     "text": [
      "Q: Where do you want to go ?\n",
      "A: I do n't know.\n",
      "\n",
      "\n"
     ]
    },
    {
     "name": "stderr",
     "output_type": "stream",
     "text": [
      "                                                                                                                                                                                                                         \r"
     ]
    },
    {
     "name": "stdout",
     "output_type": "stream",
     "text": [
      "Q: Surprise me.\n",
      "A: Thanks.\n",
      "\n",
      "\n"
     ]
    },
    {
     "name": "stderr",
     "output_type": "stream",
     "text": [
      "Sentences: 100%|███████████████████████████████████████████████████████████████████████████████████████████████████████████████████████████████████████████████████████████████████████| 328/328 [00:21<00:00, 15.40it/s]\n"
     ]
    },
    {
     "name": "stdout",
     "output_type": "stream",
     "text": [
      "Prediction finished, 0/328 sentences ignored (too long)\n",
      "All predictions done\n",
      "The End! Thanks for using this program\n"
     ]
    }
   ],
   "source": [
    "chatbot.main(pargs={\"test\": Chatbot.TestMode.ALL})"
   ]
  },
  {
   "cell_type": "code",
   "execution_count": 6,
   "metadata": {},
   "outputs": [
    {
     "ename": "TypeError",
     "evalue": "'NoneType' object is not iterable",
     "output_type": "error",
     "traceback": [
      "\u001b[1;31m---------------------------------------------------------------------------\u001b[0m",
      "\u001b[1;31mTypeError\u001b[0m                                 Traceback (most recent call last)",
      "\u001b[1;32m<ipython-input-6-f8d054b77186>\u001b[0m in \u001b[0;36m<module>\u001b[1;34m()\u001b[0m\n\u001b[0;32m      1\u001b[0m \u001b[1;31m# chatbot.start_session()\u001b[0m\u001b[1;33m\u001b[0m\u001b[1;33m\u001b[0m\u001b[0m\n\u001b[0;32m      2\u001b[0m \u001b[1;31m# chatbot.daemonPredict(\"What is your name?\")\u001b[0m\u001b[1;33m\u001b[0m\u001b[1;33m\u001b[0m\u001b[0m\n\u001b[1;32m----> 3\u001b[1;33m \u001b[0mchatbot\u001b[0m\u001b[1;33m.\u001b[0m\u001b[0mdaemonPredict\u001b[0m\u001b[1;33m(\u001b[0m\u001b[1;34m\"What is your name?\"\u001b[0m\u001b[1;33m)\u001b[0m\u001b[1;33m\u001b[0m\u001b[0m\n\u001b[0m",
      "\u001b[1;32m<ipython-input-3-5aa65f4b0cab>\u001b[0m in \u001b[0;36mdaemonPredict\u001b[1;34m(self, sentence)\u001b[0m\n\u001b[0;32m    332\u001b[0m         \"\"\"\n\u001b[0;32m    333\u001b[0m         return self.textData.sequence2str(\n\u001b[1;32m--> 334\u001b[1;33m             \u001b[0mself\u001b[0m\u001b[1;33m.\u001b[0m\u001b[0msinglePredict\u001b[0m\u001b[1;33m(\u001b[0m\u001b[0msentence\u001b[0m\u001b[1;33m)\u001b[0m\u001b[1;33m,\u001b[0m\u001b[1;33m\u001b[0m\u001b[0m\n\u001b[0m\u001b[0;32m    335\u001b[0m             \u001b[0mclean\u001b[0m\u001b[1;33m=\u001b[0m\u001b[1;32mTrue\u001b[0m\u001b[1;33m\u001b[0m\u001b[0m\n\u001b[0;32m    336\u001b[0m         )\n",
      "\u001b[1;32m<ipython-input-3-5aa65f4b0cab>\u001b[0m in \u001b[0;36msinglePredict\u001b[1;34m(self, question, questionSeq)\u001b[0m\n\u001b[0;32m    320\u001b[0m         \u001b[0mops\u001b[0m\u001b[1;33m,\u001b[0m \u001b[0mfeedDict\u001b[0m \u001b[1;33m=\u001b[0m \u001b[0mself\u001b[0m\u001b[1;33m.\u001b[0m\u001b[0mmodel\u001b[0m\u001b[1;33m.\u001b[0m\u001b[0mstep\u001b[0m\u001b[1;33m(\u001b[0m\u001b[0mbatch\u001b[0m\u001b[1;33m)\u001b[0m\u001b[1;33m\u001b[0m\u001b[0m\n\u001b[0;32m    321\u001b[0m         \u001b[0moutput\u001b[0m \u001b[1;33m=\u001b[0m \u001b[0mself\u001b[0m\u001b[1;33m.\u001b[0m\u001b[0msess\u001b[0m\u001b[1;33m.\u001b[0m\u001b[0mrun\u001b[0m\u001b[1;33m(\u001b[0m\u001b[0mops\u001b[0m\u001b[1;33m[\u001b[0m\u001b[1;36m0\u001b[0m\u001b[1;33m]\u001b[0m\u001b[1;33m,\u001b[0m \u001b[0mfeedDict\u001b[0m\u001b[1;33m)\u001b[0m  \u001b[1;31m# TODO: Summarize the output too (histogram, ...)\u001b[0m\u001b[1;33m\u001b[0m\u001b[0m\n\u001b[1;32m--> 322\u001b[1;33m         \u001b[0manswer\u001b[0m \u001b[1;33m=\u001b[0m \u001b[0mself\u001b[0m\u001b[1;33m.\u001b[0m\u001b[0mtextData\u001b[0m\u001b[1;33m.\u001b[0m\u001b[0mdeco2sentence\u001b[0m\u001b[1;33m(\u001b[0m\u001b[0moutput\u001b[0m\u001b[1;33m)\u001b[0m\u001b[1;33m\u001b[0m\u001b[0m\n\u001b[0m\u001b[0;32m    323\u001b[0m \u001b[1;33m\u001b[0m\u001b[0m\n\u001b[0;32m    324\u001b[0m         \u001b[1;32mreturn\u001b[0m \u001b[0manswer\u001b[0m\u001b[1;33m\u001b[0m\u001b[0m\n",
      "\u001b[1;32m~\\Documents\\Courses\\Advanced Deep Learning\\NLP\\natural-language-processing\\honor\\DeepQA\\chatbot\\textdata.py\u001b[0m in \u001b[0;36mdeco2sentence\u001b[1;34m(self, decoderOutputs)\u001b[0m\n\u001b[0;32m    610\u001b[0m \u001b[1;33m\u001b[0m\u001b[0m\n\u001b[0;32m    611\u001b[0m         \u001b[1;31m# Choose the words with the highest prediction score\u001b[0m\u001b[1;33m\u001b[0m\u001b[1;33m\u001b[0m\u001b[0m\n\u001b[1;32m--> 612\u001b[1;33m         \u001b[1;32mfor\u001b[0m \u001b[0mout\u001b[0m \u001b[1;32min\u001b[0m \u001b[0mdecoderOutputs\u001b[0m\u001b[1;33m:\u001b[0m\u001b[1;33m\u001b[0m\u001b[0m\n\u001b[0m\u001b[0;32m    613\u001b[0m             \u001b[0msequence\u001b[0m\u001b[1;33m.\u001b[0m\u001b[0mappend\u001b[0m\u001b[1;33m(\u001b[0m\u001b[0mnp\u001b[0m\u001b[1;33m.\u001b[0m\u001b[0margmax\u001b[0m\u001b[1;33m(\u001b[0m\u001b[0mout\u001b[0m\u001b[1;33m)\u001b[0m\u001b[1;33m)\u001b[0m  \u001b[1;31m# Adding each predicted word ids\u001b[0m\u001b[1;33m\u001b[0m\u001b[0m\n\u001b[0;32m    614\u001b[0m \u001b[1;33m\u001b[0m\u001b[0m\n",
      "\u001b[1;31mTypeError\u001b[0m: 'NoneType' object is not iterable"
     ]
    }
   ],
   "source": [
    "# chatbot.start_session()\n",
    "# chatbot.daemonPredict(\"What is your name?\")\n",
    "chatbot.daemonPredict(\"What is your name?\")"
   ]
  },
  {
   "cell_type": "code",
   "execution_count": 6,
   "metadata": {},
   "outputs": [
    {
     "data": {
      "text/plain": [
       "\"I' m sorry.\""
      ]
     },
     "execution_count": 6,
     "metadata": {},
     "output_type": "execute_result"
    }
   ],
   "source": [
    "chatbot.daemonPredict(\"What does that mean ?\")"
   ]
  },
  {
   "cell_type": "code",
   "execution_count": 7,
   "metadata": {},
   "outputs": [
    {
     "data": {
      "text/plain": [
       "\"I' m sorry.\""
      ]
     },
     "execution_count": 7,
     "metadata": {},
     "output_type": "execute_result"
    }
   ],
   "source": [
    "chatbot.daemonPredict(\"How are you?\")"
   ]
  },
  {
   "cell_type": "code",
   "execution_count": 8,
   "metadata": {},
   "outputs": [
    {
     "data": {
      "text/plain": [
       "\"I' m sorry.\""
      ]
     },
     "execution_count": 8,
     "metadata": {},
     "output_type": "execute_result"
    }
   ],
   "source": [
    "chatbot.daemonPredict(\"What is your hobby?\")"
   ]
  },
  {
   "cell_type": "code",
   "execution_count": 9,
   "metadata": {},
   "outputs": [
    {
     "data": {
      "text/plain": [
       "\"I' m sorry.\""
      ]
     },
     "execution_count": 9,
     "metadata": {},
     "output_type": "execute_result"
    }
   ],
   "source": [
    "chatbot.daemonPredict(\"How old are you ?\")"
   ]
  },
  {
   "cell_type": "code",
   "execution_count": null,
   "metadata": {},
   "outputs": [],
   "source": [
    "chatbot.daemonPredict(\"Tell me the alphabet\")"
   ]
  }
 ],
 "metadata": {
  "kernelspec": {
   "display_name": "Python 3",
   "language": "python",
   "name": "python3"
  },
  "language_info": {
   "codemirror_mode": {
    "name": "ipython",
    "version": 3
   },
   "file_extension": ".py",
   "mimetype": "text/x-python",
   "name": "python",
   "nbconvert_exporter": "python",
   "pygments_lexer": "ipython3",
   "version": "3.6.5"
  }
 },
 "nbformat": 4,
 "nbformat_minor": 2
}
